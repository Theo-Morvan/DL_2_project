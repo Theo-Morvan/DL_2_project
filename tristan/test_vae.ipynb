{
 "cells": [
  {
   "cell_type": "code",
   "execution_count": 5,
   "metadata": {},
   "outputs": [
    {
     "name": "stdout",
     "output_type": "stream",
     "text": [
      "The autoreload extension is already loaded. To reload it, use:\n",
      "  %reload_ext autoreload\n"
     ]
    }
   ],
   "source": [
    "import torch\n",
    "import torch.nn as nn\n",
    "import torch.nn.functional as F\n",
    "from torchvision import transforms, datasets\n",
    "import pandas as pd\n",
    "import numpy as np\n",
    "from src.vae_torch import *\n",
    "%load_ext autoreload\n",
    "%autoreload 2"
   ]
  },
  {
   "cell_type": "code",
   "execution_count": 6,
   "metadata": {},
   "outputs": [],
   "source": [
    "batch_size = 256\n",
    "learning_rate = 0.05\n",
    "middle_layer_size = 100\n",
    "input_size = 28*28*1\n",
    "latent_dim = 20\n",
    "n_epochs = 100"
   ]
  },
  {
   "cell_type": "code",
   "execution_count": 7,
   "metadata": {},
   "outputs": [],
   "source": [
    "model = VAE(input_size,middle_layer_size, latent_dim)"
   ]
  },
  {
   "cell_type": "code",
   "execution_count": 8,
   "metadata": {},
   "outputs": [],
   "source": [
    "import os"
   ]
  },
  {
   "cell_type": "code",
   "execution_count": 11,
   "metadata": {},
   "outputs": [],
   "source": [
    "path_data = os.path.join(os.getcwd(), \"data\", \"mnist_train.csv\")\n",
    "data_train = pd.read_csv(path_data)\n"
   ]
  },
  {
   "cell_type": "code",
   "execution_count": 22,
   "metadata": {},
   "outputs": [
    {
     "data": {
      "text/plain": [
       "tensor([2., 2., 2.,  ..., 2., 2., 2.])"
      ]
     },
     "execution_count": 22,
     "metadata": {},
     "output_type": "execute_result"
    }
   ],
   "source": [
    "df = data_train[data_train['label'].isin(labels)]\n",
    "torch.Tensor(df['label'].values)"
   ]
  },
  {
   "cell_type": "code",
   "execution_count": 23,
   "metadata": {},
   "outputs": [],
   "source": [
    "mnist_trainset = Dataset(\"c:\\\\Users\\\\32mor\\\\OneDrive\\\\Documents\\\\IPP M2\\\\DL2\\\\DL_2_project\\\\tristan\\\\data\\\\mnist_train.csv\", labels=[2])\n",
    "mnist_testset = Dataset(\"c:\\\\Users\\\\32mor\\\\OneDrive\\\\Documents\\\\IPP M2\\\\DL2\\\\DL_2_project\\\\tristan\\\\data\\\\mnist_test.csv\", labels=[2])\n",
    "mnist_train_loader = torch.utils.data.DataLoader(mnist_trainset, batch_size=batch_size, shuffle=True,\n",
    "                                                    drop_last=True)\n",
    "mnist_test_loader = torch.utils.data.DataLoader(mnist_testset, batch_size=batch_size, shuffle=True,\n",
    "                                                    drop_last=True)"
   ]
  },
  {
   "cell_type": "code",
   "execution_count": 24,
   "metadata": {},
   "outputs": [
    {
     "name": "stdout",
     "output_type": "stream",
     "text": [
      "[*] Epoch 0, average loss : 340.19509351921783\n",
      "[*] Epoch 1, average loss : 207.5937755696123\n",
      "[*] Epoch 2, average loss : 204.79028918575864\n",
      "[*] Epoch 3, average loss : 203.355235345334\n",
      "[*] Epoch 4, average loss : 202.82505730215675\n",
      "[*] Epoch 5, average loss : 202.4016153438654\n",
      "[*] Epoch 6, average loss : 202.20864869188486\n",
      "[*] Epoch 7, average loss : 201.92984354019805\n",
      "[*] Epoch 8, average loss : 202.05747393210808\n",
      "[*] Epoch 9, average loss : 202.00237994083585\n",
      "[*] Epoch 10, average loss : 201.77090610838368\n",
      "[*] Epoch 11, average loss : 201.60088719998322\n",
      "[*] Epoch 12, average loss : 201.54254062290198\n",
      "[*] Epoch 13, average loss : 201.34820763574186\n",
      "[*] Epoch 14, average loss : 201.2727333522155\n",
      "[*] Epoch 15, average loss : 201.29846818353474\n",
      "[*] Epoch 16, average loss : 201.35181950738502\n",
      "[*] Epoch 17, average loss : 201.05029477173548\n",
      "[*] Epoch 18, average loss : 201.09996931646526\n",
      "[*] Epoch 19, average loss : 201.10599194360523\n",
      "[*] Epoch 20, average loss : 200.98204882091306\n",
      "[*] Epoch 21, average loss : 200.7547349676905\n",
      "[*] Epoch 22, average loss : 200.73477296806814\n",
      "[*] Epoch 23, average loss : 200.8566967470208\n",
      "[*] Epoch 24, average loss : 200.72191669813697\n",
      "[*] Epoch 25, average loss : 200.749112931143\n",
      "[*] Epoch 26, average loss : 200.5708914222474\n",
      "[*] Epoch 27, average loss : 200.70422121517288\n",
      "[*] Epoch 28, average loss : 200.5747347316633\n",
      "[*] Epoch 29, average loss : 200.74216783106746\n",
      "[*] Epoch 30, average loss : 200.55327133685802\n",
      "[*] Epoch 31, average loss : 200.43865128818396\n",
      "[*] Epoch 32, average loss : 200.51821867656932\n",
      "[*] Epoch 33, average loss : 200.47651332766867\n",
      "[*] Epoch 34, average loss : 200.4309659806143\n",
      "[*] Epoch 35, average loss : 200.43651261958712\n",
      "[*] Epoch 36, average loss : 200.31208498552365\n",
      "[*] Epoch 37, average loss : 200.39814902232294\n",
      "[*] Epoch 38, average loss : 200.3117007857083\n",
      "[*] Epoch 39, average loss : 200.27997348627895\n",
      "[*] Epoch 40, average loss : 200.26597182884356\n",
      "[*] Epoch 41, average loss : 200.28176794855656\n",
      "[*] Epoch 42, average loss : 200.31325594264015\n",
      "[*] Epoch 43, average loss : 200.31133100977678\n",
      "[*] Epoch 44, average loss : 200.2469008318647\n",
      "[*] Epoch 45, average loss : 200.1332117793303\n",
      "[*] Epoch 46, average loss : 200.1420450969285\n",
      "[*] Epoch 47, average loss : 200.1589315311346\n",
      "[*] Epoch 48, average loss : 200.2032672719453\n",
      "[*] Epoch 49, average loss : 200.0915719935381\n",
      "[*] Epoch 50, average loss : 200.07114777400133\n",
      "[*] Epoch 51, average loss : 200.11594770161966\n",
      "[*] Epoch 52, average loss : 200.13916490957536\n",
      "[*] Epoch 53, average loss : 200.19960360544647\n",
      "[*] Epoch 54, average loss : 200.07589388742028\n",
      "[*] Epoch 55, average loss : 200.17583894553542\n",
      "[*] Epoch 56, average loss : 200.12237878692514\n",
      "[*] Epoch 57, average loss : 200.1604814430178\n",
      "[*] Epoch 58, average loss : 200.02705002727424\n",
      "[*] Epoch 59, average loss : 200.07258622860022\n",
      "[*] Epoch 60, average loss : 200.0781623709718\n",
      "[*] Epoch 61, average loss : 200.06419480635282\n",
      "[*] Epoch 62, average loss : 200.0805482124874\n",
      "[*] Epoch 63, average loss : 200.08629350767876\n",
      "[*] Epoch 64, average loss : 200.0180246097684\n",
      "[*] Epoch 65, average loss : 200.08649281952836\n",
      "[*] Epoch 66, average loss : 200.07340052240684\n",
      "[*] Epoch 67, average loss : 200.01328177450486\n",
      "[*] Epoch 68, average loss : 200.0815224802786\n",
      "[*] Epoch 69, average loss : 200.08985686262167\n",
      "[*] Epoch 70, average loss : 200.0530012168513\n",
      "[*] Epoch 71, average loss : 200.07950248090802\n",
      "[*] Epoch 72, average loss : 200.00484904749916\n",
      "[*] Epoch 73, average loss : 199.9968051097264\n",
      "[*] Epoch 74, average loss : 200.10180246097684\n",
      "[*] Epoch 75, average loss : 200.19731020791372\n",
      "[*] Epoch 76, average loss : 200.19810352152567\n",
      "[*] Epoch 77, average loss : 200.01032881210136\n",
      "[*] Epoch 78, average loss : 200.06232953591808\n",
      "[*] Epoch 79, average loss : 199.9604542998909\n",
      "[*] Epoch 80, average loss : 199.98341056667505\n",
      "[*] Epoch 81, average loss : 199.96350495132594\n",
      "[*] Epoch 82, average loss : 200.00102344012254\n",
      "[*] Epoch 83, average loss : 199.99969119775932\n",
      "[*] Epoch 84, average loss : 199.8677585546744\n",
      "[*] Epoch 85, average loss : 199.97516928394595\n",
      "[*] Epoch 86, average loss : 199.98783345396944\n",
      "[*] Epoch 87, average loss : 199.9588388248993\n",
      "[*] Epoch 88, average loss : 199.99692312332158\n",
      "[*] Epoch 89, average loss : 200.026261958711\n",
      "[*] Epoch 90, average loss : 200.0960945367573\n",
      "[*] Epoch 91, average loss : 199.92082336774087\n",
      "[*] Epoch 92, average loss : 199.937546549807\n",
      "[*] Epoch 93, average loss : 199.9406693206613\n",
      "[*] Epoch 94, average loss : 199.93997566297415\n",
      "[*] Epoch 95, average loss : 199.94935774378988\n",
      "[*] Epoch 96, average loss : 199.9322896997734\n",
      "[*] Epoch 97, average loss : 200.06475471529876\n",
      "[*] Epoch 98, average loss : 200.05506711039777\n",
      "[*] Epoch 99, average loss : 199.95571408715173\n"
     ]
    }
   ],
   "source": [
    "train_model(model, learning_rate, mnist_train_loader,batch_size, n_epochs)"
   ]
  },
  {
   "cell_type": "code",
   "execution_count": 25,
   "metadata": {},
   "outputs": [],
   "source": [
    "import matplotlib.pyplot as plt\n",
    "from torchvision.utils import make_grid\n",
    "# plt.imshow(images[0].view(28,28,1).detach().numpy())"
   ]
  },
  {
   "cell_type": "code",
   "execution_count": 42,
   "metadata": {},
   "outputs": [
    {
     "ename": "AttributeError",
     "evalue": "'DBN' object has no attribute 'latent_dim'",
     "output_type": "error",
     "traceback": [
      "\u001b[1;31m---------------------------------------------------------------------------\u001b[0m",
      "\u001b[1;31mAttributeError\u001b[0m                            Traceback (most recent call last)",
      "\u001b[1;32mc:\\Users\\32mor\\OneDrive\\Documents\\IPP M2\\DL2\\DL_2_project\\tristan\\test_vae.ipynb Cell 10\u001b[0m in \u001b[0;36m1\n\u001b[1;32m----> <a href='vscode-notebook-cell:/c%3A/Users/32mor/OneDrive/Documents/IPP%20M2/DL2/DL_2_project/tristan/test_vae.ipynb#X13sZmlsZQ%3D%3D?line=0'>1</a>\u001b[0m images \u001b[39m=\u001b[39m generate_data(model, \u001b[39m5\u001b[39;49m)\n\u001b[0;32m      <a href='vscode-notebook-cell:/c%3A/Users/32mor/OneDrive/Documents/IPP%20M2/DL2/DL_2_project/tristan/test_vae.ipynb#X13sZmlsZQ%3D%3D?line=1'>2</a>\u001b[0m fig, axes \u001b[39m=\u001b[39m plt\u001b[39m.\u001b[39msubplots(\u001b[39m1\u001b[39m,\u001b[39m5\u001b[39m, figsize\u001b[39m=\u001b[39m(\u001b[39m30\u001b[39m,\u001b[39m10\u001b[39m))\n\u001b[0;32m      <a href='vscode-notebook-cell:/c%3A/Users/32mor/OneDrive/Documents/IPP%20M2/DL2/DL_2_project/tristan/test_vae.ipynb#X13sZmlsZQ%3D%3D?line=2'>3</a>\u001b[0m \u001b[39mfor\u001b[39;00m i \u001b[39min\u001b[39;00m \u001b[39mrange\u001b[39m(\u001b[39m5\u001b[39m):\n",
      "File \u001b[1;32mc:\\Users\\32mor\\OneDrive\\Documents\\IPP M2\\DL2\\DL_2_project\\tristan\\src\\vae_torch.py:137\u001b[0m, in \u001b[0;36mgenerate_data\u001b[1;34m(model, number_images)\u001b[0m\n\u001b[0;32m    136\u001b[0m \u001b[39mdef\u001b[39;00m \u001b[39mgenerate_data\u001b[39m(model, number_images):\n\u001b[1;32m--> 137\u001b[0m     epsilon \u001b[39m=\u001b[39m torch\u001b[39m.\u001b[39mrandn(number_images, \u001b[39m1\u001b[39m, model\u001b[39m.\u001b[39;49mlatent_dim)\n\u001b[0;32m    138\u001b[0m     generations \u001b[39m=\u001b[39m model\u001b[39m.\u001b[39mdecoder(epsilon)\n\u001b[0;32m    139\u001b[0m     \u001b[39mreturn\u001b[39;00m generations\n",
      "\u001b[1;31mAttributeError\u001b[0m: 'DBN' object has no attribute 'latent_dim'"
     ]
    }
   ],
   "source": [
    "images = generate_data(model, 5)\n",
    "fig, axes = plt.subplots(1,5, figsize=(30,10))\n",
    "for i in range(5):\n",
    "    axes[i].imshow(images[i].view(28,28,1).detach().numpy())\n",
    "plt.savefig(\"images_VAE_only_twos.png\")"
   ]
  },
  {
   "cell_type": "code",
   "execution_count": 28,
   "metadata": {},
   "outputs": [
    {
     "data": {
      "text/plain": [
       "<matplotlib.image.AxesImage at 0x20abee86040>"
      ]
     },
     "execution_count": 28,
     "metadata": {},
     "output_type": "execute_result"
    },
    {
     "data": {
      "image/png": "[encoded data removed]",
      "text/plain": [
       "<Figure size 640x480 with 1 Axes>"
      ]
     },
     "metadata": {},
     "output_type": "display_data"
    }
   ],
   "source": [
    "\n",
    "grid_img = make_grid(images.view([5,1,28,28]).detach())\n",
    "plt.imshow(grid_img.permute(1, 2, 0), cmap='viridis')\n",
    "# plt.title('Images Generated with VAE')"
   ]
  },
  {
   "cell_type": "code",
   "execution_count": 31,
   "metadata": {},
   "outputs": [],
   "source": [
    "from src.dbn import DBN\n",
    "from src.data import lire_mnist\n",
    "\n",
    "X_train, y_train, X_test, y_test = lire_mnist(\"data/mnist_train.csv\", \"data/mnist_test.csv\")\n",
    "model = DBN([784, 100, 100])"
   ]
  },
  {
   "cell_type": "code",
   "execution_count": 125,
   "metadata": {},
   "outputs": [
    {
     "name": "stdout",
     "output_type": "stream",
     "text": [
      "Epoch 0, erreur quadratique moyenne de reconstruction : 0.070894\n",
      "Epoch 1, erreur quadratique moyenne de reconstruction : 0.059003\n",
      "Epoch 2, erreur quadratique moyenne de reconstruction : 0.053456\n",
      "Epoch 3, erreur quadratique moyenne de reconstruction : 0.049735\n"
     ]
    }
   ],
   "source": [
    "model.train(X_train,0.1, 1000, 100)"
   ]
  },
  {
   "cell_type": "code",
   "execution_count": 30,
   "metadata": {},
   "outputs": [],
   "source": [
    "from src.rbm import RBM\n",
    "from src.data import lire_alpha_digits\n",
    "from src.utils import display_alpha_digits"
   ]
  },
  {
   "cell_type": "code",
   "execution_count": 32,
   "metadata": {},
   "outputs": [],
   "source": [
    "rbm_mnist = RBM(784,200)"
   ]
  },
  {
   "cell_type": "code",
   "execution_count": 33,
   "metadata": {},
   "outputs": [],
   "source": [
    "learning_rate = 0.01"
   ]
  },
  {
   "cell_type": "code",
   "execution_count": 51,
   "metadata": {},
   "outputs": [],
   "source": [
    "X_twos = X_train[np.argwhere(y_train.argmax(axis=1)==1)]\n",
    "X_twos = np.squeeze(X_twos,axis=1)"
   ]
  },
  {
   "cell_type": "code",
   "execution_count": 49,
   "metadata": {},
   "outputs": [
    {
     "data": {
      "text/plain": [
       "(60000, 784)"
      ]
     },
     "execution_count": 49,
     "metadata": {},
     "output_type": "execute_result"
    }
   ],
   "source": [
    "X_train.shape"
   ]
  },
  {
   "cell_type": "code",
   "execution_count": 52,
   "metadata": {},
   "outputs": [
    {
     "data": {
      "text/plain": [
       "(6742, 784)"
      ]
     },
     "execution_count": 52,
     "metadata": {},
     "output_type": "execute_result"
    }
   ],
   "source": [
    "X_twos.shape"
   ]
  },
  {
   "cell_type": "code",
   "execution_count": 53,
   "metadata": {},
   "outputs": [
    {
     "name": "stdout",
     "output_type": "stream",
     "text": [
      "Epoch 0, erreur quadratique moyenne de reconstruction : 0.034570\n",
      "Epoch 1, erreur quadratique moyenne de reconstruction : 0.031568\n",
      "Epoch 2, erreur quadratique moyenne de reconstruction : 0.028162\n",
      "Epoch 3, erreur quadratique moyenne de reconstruction : 0.025937\n",
      "Epoch 4, erreur quadratique moyenne de reconstruction : 0.024792\n",
      "Epoch 5, erreur quadratique moyenne de reconstruction : 0.024063\n",
      "Epoch 6, erreur quadratique moyenne de reconstruction : 0.023490\n",
      "Epoch 7, erreur quadratique moyenne de reconstruction : 0.022977\n",
      "Epoch 8, erreur quadratique moyenne de reconstruction : 0.022502\n",
      "Epoch 9, erreur quadratique moyenne de reconstruction : 0.022080\n",
      "Epoch 10, erreur quadratique moyenne de reconstruction : 0.021718\n",
      "Epoch 11, erreur quadratique moyenne de reconstruction : 0.021390\n",
      "Epoch 12, erreur quadratique moyenne de reconstruction : 0.021107\n",
      "Epoch 13, erreur quadratique moyenne de reconstruction : 0.020889\n",
      "Epoch 14, erreur quadratique moyenne de reconstruction : 0.020696\n",
      "Epoch 15, erreur quadratique moyenne de reconstruction : 0.020524\n",
      "Epoch 16, erreur quadratique moyenne de reconstruction : 0.020371\n",
      "Epoch 17, erreur quadratique moyenne de reconstruction : 0.020233\n",
      "Epoch 18, erreur quadratique moyenne de reconstruction : 0.020111\n",
      "Epoch 19, erreur quadratique moyenne de reconstruction : 0.019985\n",
      "Epoch 20, erreur quadratique moyenne de reconstruction : 0.019866\n",
      "Epoch 21, erreur quadratique moyenne de reconstruction : 0.019757\n",
      "Epoch 22, erreur quadratique moyenne de reconstruction : 0.019648\n",
      "Epoch 23, erreur quadratique moyenne de reconstruction : 0.019538\n",
      "Epoch 24, erreur quadratique moyenne de reconstruction : 0.019444\n",
      "Epoch 25, erreur quadratique moyenne de reconstruction : 0.019337\n",
      "Epoch 26, erreur quadratique moyenne de reconstruction : 0.019229\n",
      "Epoch 27, erreur quadratique moyenne de reconstruction : 0.019109\n",
      "Epoch 28, erreur quadratique moyenne de reconstruction : 0.019012\n",
      "Epoch 29, erreur quadratique moyenne de reconstruction : 0.018895\n",
      "Epoch 30, erreur quadratique moyenne de reconstruction : 0.018785\n",
      "Epoch 31, erreur quadratique moyenne de reconstruction : 0.018675\n",
      "Epoch 32, erreur quadratique moyenne de reconstruction : 0.018574\n",
      "Epoch 33, erreur quadratique moyenne de reconstruction : 0.018469\n",
      "Epoch 34, erreur quadratique moyenne de reconstruction : 0.018337\n",
      "Epoch 35, erreur quadratique moyenne de reconstruction : 0.018225\n",
      "Epoch 36, erreur quadratique moyenne de reconstruction : 0.018119\n",
      "Epoch 37, erreur quadratique moyenne de reconstruction : 0.018001\n",
      "Epoch 38, erreur quadratique moyenne de reconstruction : 0.017876\n",
      "Epoch 39, erreur quadratique moyenne de reconstruction : 0.017770\n",
      "Epoch 40, erreur quadratique moyenne de reconstruction : 0.017654\n",
      "Epoch 41, erreur quadratique moyenne de reconstruction : 0.017542\n",
      "Epoch 42, erreur quadratique moyenne de reconstruction : 0.017424\n",
      "Epoch 43, erreur quadratique moyenne de reconstruction : 0.017313\n",
      "Epoch 44, erreur quadratique moyenne de reconstruction : 0.017208\n",
      "Epoch 45, erreur quadratique moyenne de reconstruction : 0.017100\n",
      "Epoch 46, erreur quadratique moyenne de reconstruction : 0.016982\n",
      "Epoch 47, erreur quadratique moyenne de reconstruction : 0.016873\n",
      "Epoch 48, erreur quadratique moyenne de reconstruction : 0.016760\n",
      "Epoch 49, erreur quadratique moyenne de reconstruction : 0.016651\n",
      "Epoch 50, erreur quadratique moyenne de reconstruction : 0.016546\n",
      "Epoch 51, erreur quadratique moyenne de reconstruction : 0.016445\n",
      "Epoch 52, erreur quadratique moyenne de reconstruction : 0.016336\n",
      "Epoch 53, erreur quadratique moyenne de reconstruction : 0.016239\n",
      "Epoch 54, erreur quadratique moyenne de reconstruction : 0.016138\n",
      "Epoch 55, erreur quadratique moyenne de reconstruction : 0.016036\n",
      "Epoch 56, erreur quadratique moyenne de reconstruction : 0.015932\n",
      "Epoch 57, erreur quadratique moyenne de reconstruction : 0.015847\n",
      "Epoch 58, erreur quadratique moyenne de reconstruction : 0.015753\n",
      "Epoch 59, erreur quadratique moyenne de reconstruction : 0.015649\n",
      "Epoch 60, erreur quadratique moyenne de reconstruction : 0.015573\n",
      "Epoch 61, erreur quadratique moyenne de reconstruction : 0.015484\n",
      "Epoch 62, erreur quadratique moyenne de reconstruction : 0.015393\n",
      "Epoch 63, erreur quadratique moyenne de reconstruction : 0.015319\n",
      "Epoch 64, erreur quadratique moyenne de reconstruction : 0.015226\n",
      "Epoch 65, erreur quadratique moyenne de reconstruction : 0.015154\n",
      "Epoch 66, erreur quadratique moyenne de reconstruction : 0.015078\n",
      "Epoch 67, erreur quadratique moyenne de reconstruction : 0.015002\n",
      "Epoch 68, erreur quadratique moyenne de reconstruction : 0.014921\n",
      "Epoch 69, erreur quadratique moyenne de reconstruction : 0.014847\n",
      "Epoch 70, erreur quadratique moyenne de reconstruction : 0.014779\n",
      "Epoch 71, erreur quadratique moyenne de reconstruction : 0.014713\n",
      "Epoch 72, erreur quadratique moyenne de reconstruction : 0.014631\n",
      "Epoch 73, erreur quadratique moyenne de reconstruction : 0.014562\n",
      "Epoch 74, erreur quadratique moyenne de reconstruction : 0.014509\n",
      "Epoch 75, erreur quadratique moyenne de reconstruction : 0.014435\n",
      "Epoch 76, erreur quadratique moyenne de reconstruction : 0.014376\n",
      "Epoch 77, erreur quadratique moyenne de reconstruction : 0.014314\n",
      "Epoch 78, erreur quadratique moyenne de reconstruction : 0.014248\n",
      "Epoch 79, erreur quadratique moyenne de reconstruction : 0.014187\n",
      "Epoch 80, erreur quadratique moyenne de reconstruction : 0.014131\n",
      "Epoch 81, erreur quadratique moyenne de reconstruction : 0.014081\n",
      "Epoch 82, erreur quadratique moyenne de reconstruction : 0.014018\n",
      "Epoch 83, erreur quadratique moyenne de reconstruction : 0.013965\n",
      "Epoch 84, erreur quadratique moyenne de reconstruction : 0.013907\n",
      "Epoch 85, erreur quadratique moyenne de reconstruction : 0.013862\n",
      "Epoch 86, erreur quadratique moyenne de reconstruction : 0.013808\n",
      "Epoch 87, erreur quadratique moyenne de reconstruction : 0.013758\n",
      "Epoch 88, erreur quadratique moyenne de reconstruction : 0.013706\n",
      "Epoch 89, erreur quadratique moyenne de reconstruction : 0.013660\n",
      "Epoch 90, erreur quadratique moyenne de reconstruction : 0.013601\n",
      "Epoch 91, erreur quadratique moyenne de reconstruction : 0.013555\n",
      "Epoch 92, erreur quadratique moyenne de reconstruction : 0.013507\n",
      "Epoch 93, erreur quadratique moyenne de reconstruction : 0.013459\n",
      "Epoch 94, erreur quadratique moyenne de reconstruction : 0.013414\n",
      "Epoch 95, erreur quadratique moyenne de reconstruction : 0.013366\n",
      "Epoch 96, erreur quadratique moyenne de reconstruction : 0.013320\n",
      "Epoch 97, erreur quadratique moyenne de reconstruction : 0.013278\n",
      "Epoch 98, erreur quadratique moyenne de reconstruction : 0.013229\n",
      "Epoch 99, erreur quadratique moyenne de reconstruction : 0.013190\n"
     ]
    }
   ],
   "source": [
    "\n",
    "rbm_mnist.train(X_train,learning_rate, batch_size, n_epochs)"
   ]
  },
  {
   "cell_type": "code",
   "execution_count": 55,
   "metadata": {},
   "outputs": [
    {
     "data": {
      "image/png": "[encoded data removed]",
      "text/plain": [
       "<Figure size 3000x1000 with 5 Axes>"
      ]
     },
     "metadata": {},
     "output_type": "display_data"
    }
   ],
   "source": [
    "images_rbm = rbm_mnist.generer_image(10, 5)\n",
    "fig, axes = plt.subplots(1,5, figsize=(30,10))\n",
    "for i in range(5):\n",
    "    axes[i].imshow(images_rbm[i].reshape(28,28,1))\n",
    "plt.savefig(\"images_rbm_mnist_twos.png\")"
   ]
  },
  {
   "cell_type": "code",
   "execution_count": 56,
   "metadata": {},
   "outputs": [
    {
     "name": "stdout",
     "output_type": "stream",
     "text": [
      "Epoch 0, erreur quadratique moyenne de reconstruction : 0.084122\n",
      "Epoch 1, erreur quadratique moyenne de reconstruction : 0.069620\n",
      "Epoch 2, erreur quadratique moyenne de reconstruction : 0.062581\n",
      "Epoch 3, erreur quadratique moyenne de reconstruction : 0.058296\n",
      "Epoch 4, erreur quadratique moyenne de reconstruction : 0.055450\n",
      "Epoch 5, erreur quadratique moyenne de reconstruction : 0.053049\n",
      "Epoch 6, erreur quadratique moyenne de reconstruction : 0.050925\n",
      "Epoch 7, erreur quadratique moyenne de reconstruction : 0.049161\n",
      "Epoch 8, erreur quadratique moyenne de reconstruction : 0.047611\n",
      "Epoch 9, erreur quadratique moyenne de reconstruction : 0.046238\n",
      "Epoch 10, erreur quadratique moyenne de reconstruction : 0.045002\n",
      "Epoch 11, erreur quadratique moyenne de reconstruction : 0.043866\n",
      "Epoch 12, erreur quadratique moyenne de reconstruction : 0.042852\n",
      "Epoch 13, erreur quadratique moyenne de reconstruction : 0.041922\n",
      "Epoch 14, erreur quadratique moyenne de reconstruction : 0.041055\n",
      "Epoch 15, erreur quadratique moyenne de reconstruction : 0.040268\n",
      "Epoch 16, erreur quadratique moyenne de reconstruction : 0.039540\n",
      "Epoch 17, erreur quadratique moyenne de reconstruction : 0.038842\n",
      "Epoch 18, erreur quadratique moyenne de reconstruction : 0.038216\n",
      "Epoch 19, erreur quadratique moyenne de reconstruction : 0.037621\n",
      "Epoch 20, erreur quadratique moyenne de reconstruction : 0.037063\n",
      "Epoch 21, erreur quadratique moyenne de reconstruction : 0.036543\n",
      "Epoch 22, erreur quadratique moyenne de reconstruction : 0.036055\n",
      "Epoch 23, erreur quadratique moyenne de reconstruction : 0.035595\n",
      "Epoch 24, erreur quadratique moyenne de reconstruction : 0.035160\n",
      "Epoch 25, erreur quadratique moyenne de reconstruction : 0.034750\n",
      "Epoch 26, erreur quadratique moyenne de reconstruction : 0.034351\n",
      "Epoch 27, erreur quadratique moyenne de reconstruction : 0.033979\n",
      "Epoch 28, erreur quadratique moyenne de reconstruction : 0.033628\n",
      "Epoch 29, erreur quadratique moyenne de reconstruction : 0.033293\n",
      "Epoch 30, erreur quadratique moyenne de reconstruction : 0.032973\n",
      "Epoch 31, erreur quadratique moyenne de reconstruction : 0.032664\n",
      "Epoch 32, erreur quadratique moyenne de reconstruction : 0.032378\n",
      "Epoch 33, erreur quadratique moyenne de reconstruction : 0.032100\n",
      "Epoch 34, erreur quadratique moyenne de reconstruction : 0.031837\n",
      "Epoch 35, erreur quadratique moyenne de reconstruction : 0.031570\n",
      "Epoch 36, erreur quadratique moyenne de reconstruction : 0.031325\n",
      "Epoch 37, erreur quadratique moyenne de reconstruction : 0.031090\n",
      "Epoch 38, erreur quadratique moyenne de reconstruction : 0.030867\n",
      "Epoch 39, erreur quadratique moyenne de reconstruction : 0.030634\n",
      "Epoch 40, erreur quadratique moyenne de reconstruction : 0.030422\n",
      "Epoch 41, erreur quadratique moyenne de reconstruction : 0.030223\n",
      "Epoch 42, erreur quadratique moyenne de reconstruction : 0.030015\n",
      "Epoch 43, erreur quadratique moyenne de reconstruction : 0.029826\n",
      "Epoch 44, erreur quadratique moyenne de reconstruction : 0.029633\n",
      "Epoch 45, erreur quadratique moyenne de reconstruction : 0.029451\n",
      "Epoch 46, erreur quadratique moyenne de reconstruction : 0.029274\n",
      "Epoch 47, erreur quadratique moyenne de reconstruction : 0.029104\n",
      "Epoch 48, erreur quadratique moyenne de reconstruction : 0.028934\n",
      "Epoch 49, erreur quadratique moyenne de reconstruction : 0.028774\n",
      "Epoch 50, erreur quadratique moyenne de reconstruction : 0.028614\n",
      "Epoch 51, erreur quadratique moyenne de reconstruction : 0.028463\n",
      "Epoch 52, erreur quadratique moyenne de reconstruction : 0.028316\n",
      "Epoch 53, erreur quadratique moyenne de reconstruction : 0.028160\n",
      "Epoch 54, erreur quadratique moyenne de reconstruction : 0.028026\n",
      "Epoch 55, erreur quadratique moyenne de reconstruction : 0.027884\n",
      "Epoch 56, erreur quadratique moyenne de reconstruction : 0.027748\n",
      "Epoch 57, erreur quadratique moyenne de reconstruction : 0.027617\n",
      "Epoch 58, erreur quadratique moyenne de reconstruction : 0.027488\n",
      "Epoch 59, erreur quadratique moyenne de reconstruction : 0.027360\n",
      "Epoch 60, erreur quadratique moyenne de reconstruction : 0.027235\n",
      "Epoch 61, erreur quadratique moyenne de reconstruction : 0.027114\n",
      "Epoch 62, erreur quadratique moyenne de reconstruction : 0.026998\n",
      "Epoch 63, erreur quadratique moyenne de reconstruction : 0.026880\n",
      "Epoch 64, erreur quadratique moyenne de reconstruction : 0.026769\n",
      "Epoch 65, erreur quadratique moyenne de reconstruction : 0.026659\n",
      "Epoch 66, erreur quadratique moyenne de reconstruction : 0.026547\n",
      "Epoch 67, erreur quadratique moyenne de reconstruction : 0.026442\n",
      "Epoch 68, erreur quadratique moyenne de reconstruction : 0.026332\n",
      "Epoch 69, erreur quadratique moyenne de reconstruction : 0.026239\n",
      "Epoch 70, erreur quadratique moyenne de reconstruction : 0.026134\n",
      "Epoch 71, erreur quadratique moyenne de reconstruction : 0.026037\n",
      "Epoch 72, erreur quadratique moyenne de reconstruction : 0.025937\n",
      "Epoch 73, erreur quadratique moyenne de reconstruction : 0.025842\n",
      "Epoch 74, erreur quadratique moyenne de reconstruction : 0.025750\n",
      "Epoch 75, erreur quadratique moyenne de reconstruction : 0.025658\n",
      "Epoch 76, erreur quadratique moyenne de reconstruction : 0.025567\n",
      "Epoch 77, erreur quadratique moyenne de reconstruction : 0.025484\n",
      "Epoch 78, erreur quadratique moyenne de reconstruction : 0.025395\n",
      "Epoch 79, erreur quadratique moyenne de reconstruction : 0.025307\n",
      "Epoch 80, erreur quadratique moyenne de reconstruction : 0.025226\n",
      "Epoch 81, erreur quadratique moyenne de reconstruction : 0.025143\n",
      "Epoch 82, erreur quadratique moyenne de reconstruction : 0.025064\n",
      "Epoch 83, erreur quadratique moyenne de reconstruction : 0.024986\n",
      "Epoch 84, erreur quadratique moyenne de reconstruction : 0.024902\n",
      "Epoch 85, erreur quadratique moyenne de reconstruction : 0.024836\n",
      "Epoch 86, erreur quadratique moyenne de reconstruction : 0.024751\n",
      "Epoch 87, erreur quadratique moyenne de reconstruction : 0.024679\n",
      "Epoch 88, erreur quadratique moyenne de reconstruction : 0.024600\n",
      "Epoch 89, erreur quadratique moyenne de reconstruction : 0.024529\n",
      "Epoch 90, erreur quadratique moyenne de reconstruction : 0.024456\n",
      "Epoch 91, erreur quadratique moyenne de reconstruction : 0.024388\n",
      "Epoch 92, erreur quadratique moyenne de reconstruction : 0.024318\n",
      "Epoch 93, erreur quadratique moyenne de reconstruction : 0.024247\n",
      "Epoch 94, erreur quadratique moyenne de reconstruction : 0.024182\n",
      "Epoch 95, erreur quadratique moyenne de reconstruction : 0.024119\n",
      "Epoch 96, erreur quadratique moyenne de reconstruction : 0.024054\n",
      "Epoch 97, erreur quadratique moyenne de reconstruction : 0.023991\n",
      "Epoch 98, erreur quadratique moyenne de reconstruction : 0.023918\n",
      "Epoch 99, erreur quadratique moyenne de reconstruction : 0.023861\n",
      "Epoch 0, erreur quadratique moyenne de reconstruction : 0.172268\n",
      "Epoch 1, erreur quadratique moyenne de reconstruction : 0.158806\n",
      "Epoch 2, erreur quadratique moyenne de reconstruction : 0.137631\n",
      "Epoch 3, erreur quadratique moyenne de reconstruction : 0.122838\n",
      "Epoch 4, erreur quadratique moyenne de reconstruction : 0.111452\n",
      "Epoch 5, erreur quadratique moyenne de reconstruction : 0.102918\n",
      "Epoch 6, erreur quadratique moyenne de reconstruction : 0.096605\n",
      "Epoch 7, erreur quadratique moyenne de reconstruction : 0.091849\n",
      "Epoch 8, erreur quadratique moyenne de reconstruction : 0.087766\n",
      "Epoch 9, erreur quadratique moyenne de reconstruction : 0.083861\n",
      "Epoch 10, erreur quadratique moyenne de reconstruction : 0.079989\n",
      "Epoch 11, erreur quadratique moyenne de reconstruction : 0.076372\n",
      "Epoch 12, erreur quadratique moyenne de reconstruction : 0.073082\n",
      "Epoch 13, erreur quadratique moyenne de reconstruction : 0.070177\n",
      "Epoch 14, erreur quadratique moyenne de reconstruction : 0.067608\n",
      "Epoch 15, erreur quadratique moyenne de reconstruction : 0.065317\n",
      "Epoch 16, erreur quadratique moyenne de reconstruction : 0.063166\n",
      "Epoch 17, erreur quadratique moyenne de reconstruction : 0.061194\n",
      "Epoch 18, erreur quadratique moyenne de reconstruction : 0.059371\n",
      "Epoch 19, erreur quadratique moyenne de reconstruction : 0.057683\n",
      "Epoch 20, erreur quadratique moyenne de reconstruction : 0.056045\n",
      "Epoch 21, erreur quadratique moyenne de reconstruction : 0.054514\n",
      "Epoch 22, erreur quadratique moyenne de reconstruction : 0.053083\n",
      "Epoch 23, erreur quadratique moyenne de reconstruction : 0.051729\n",
      "Epoch 24, erreur quadratique moyenne de reconstruction : 0.050417\n",
      "Epoch 25, erreur quadratique moyenne de reconstruction : 0.049214\n",
      "Epoch 26, erreur quadratique moyenne de reconstruction : 0.048052\n",
      "Epoch 27, erreur quadratique moyenne de reconstruction : 0.046956\n",
      "Epoch 28, erreur quadratique moyenne de reconstruction : 0.045930\n",
      "Epoch 29, erreur quadratique moyenne de reconstruction : 0.044958\n",
      "Epoch 30, erreur quadratique moyenne de reconstruction : 0.044033\n",
      "Epoch 31, erreur quadratique moyenne de reconstruction : 0.043126\n",
      "Epoch 32, erreur quadratique moyenne de reconstruction : 0.042282\n",
      "Epoch 33, erreur quadratique moyenne de reconstruction : 0.041513\n",
      "Epoch 34, erreur quadratique moyenne de reconstruction : 0.040732\n",
      "Epoch 35, erreur quadratique moyenne de reconstruction : 0.040002\n",
      "Epoch 36, erreur quadratique moyenne de reconstruction : 0.039314\n",
      "Epoch 37, erreur quadratique moyenne de reconstruction : 0.038676\n",
      "Epoch 38, erreur quadratique moyenne de reconstruction : 0.038012\n",
      "Epoch 39, erreur quadratique moyenne de reconstruction : 0.037377\n",
      "Epoch 40, erreur quadratique moyenne de reconstruction : 0.036791\n",
      "Epoch 41, erreur quadratique moyenne de reconstruction : 0.036235\n",
      "Epoch 42, erreur quadratique moyenne de reconstruction : 0.035672\n",
      "Epoch 43, erreur quadratique moyenne de reconstruction : 0.035122\n",
      "Epoch 44, erreur quadratique moyenne de reconstruction : 0.034619\n",
      "Epoch 45, erreur quadratique moyenne de reconstruction : 0.034130\n",
      "Epoch 46, erreur quadratique moyenne de reconstruction : 0.033643\n",
      "Epoch 47, erreur quadratique moyenne de reconstruction : 0.033185\n",
      "Epoch 48, erreur quadratique moyenne de reconstruction : 0.032723\n",
      "Epoch 49, erreur quadratique moyenne de reconstruction : 0.032314\n",
      "Epoch 50, erreur quadratique moyenne de reconstruction : 0.031875\n",
      "Epoch 51, erreur quadratique moyenne de reconstruction : 0.031474\n",
      "Epoch 52, erreur quadratique moyenne de reconstruction : 0.031085\n",
      "Epoch 53, erreur quadratique moyenne de reconstruction : 0.030701\n",
      "Epoch 54, erreur quadratique moyenne de reconstruction : 0.030328\n",
      "Epoch 55, erreur quadratique moyenne de reconstruction : 0.029979\n",
      "Epoch 56, erreur quadratique moyenne de reconstruction : 0.029653\n",
      "Epoch 57, erreur quadratique moyenne de reconstruction : 0.029315\n",
      "Epoch 58, erreur quadratique moyenne de reconstruction : 0.028990\n",
      "Epoch 59, erreur quadratique moyenne de reconstruction : 0.028658\n",
      "Epoch 60, erreur quadratique moyenne de reconstruction : 0.028360\n",
      "Epoch 61, erreur quadratique moyenne de reconstruction : 0.028082\n",
      "Epoch 62, erreur quadratique moyenne de reconstruction : 0.027764\n",
      "Epoch 63, erreur quadratique moyenne de reconstruction : 0.027544\n",
      "Epoch 64, erreur quadratique moyenne de reconstruction : 0.027274\n",
      "Epoch 65, erreur quadratique moyenne de reconstruction : 0.027000\n",
      "Epoch 66, erreur quadratique moyenne de reconstruction : 0.026751\n",
      "Epoch 67, erreur quadratique moyenne de reconstruction : 0.026507\n",
      "Epoch 68, erreur quadratique moyenne de reconstruction : 0.026290\n",
      "Epoch 69, erreur quadratique moyenne de reconstruction : 0.026058\n",
      "Epoch 70, erreur quadratique moyenne de reconstruction : 0.025858\n",
      "Epoch 71, erreur quadratique moyenne de reconstruction : 0.025644\n",
      "Epoch 72, erreur quadratique moyenne de reconstruction : 0.025410\n",
      "Epoch 73, erreur quadratique moyenne de reconstruction : 0.025210\n",
      "Epoch 74, erreur quadratique moyenne de reconstruction : 0.025031\n",
      "Epoch 75, erreur quadratique moyenne de reconstruction : 0.024843\n",
      "Epoch 76, erreur quadratique moyenne de reconstruction : 0.024653\n",
      "Epoch 77, erreur quadratique moyenne de reconstruction : 0.024488\n",
      "Epoch 78, erreur quadratique moyenne de reconstruction : 0.024299\n",
      "Epoch 79, erreur quadratique moyenne de reconstruction : 0.024114\n",
      "Epoch 80, erreur quadratique moyenne de reconstruction : 0.023955\n",
      "Epoch 81, erreur quadratique moyenne de reconstruction : 0.023808\n",
      "Epoch 82, erreur quadratique moyenne de reconstruction : 0.023635\n",
      "Epoch 83, erreur quadratique moyenne de reconstruction : 0.023494\n",
      "Epoch 84, erreur quadratique moyenne de reconstruction : 0.023346\n",
      "Epoch 85, erreur quadratique moyenne de reconstruction : 0.023208\n",
      "Epoch 86, erreur quadratique moyenne de reconstruction : 0.023041\n",
      "Epoch 87, erreur quadratique moyenne de reconstruction : 0.022918\n",
      "Epoch 88, erreur quadratique moyenne de reconstruction : 0.022776\n",
      "Epoch 89, erreur quadratique moyenne de reconstruction : 0.022653\n",
      "Epoch 90, erreur quadratique moyenne de reconstruction : 0.022519\n",
      "Epoch 91, erreur quadratique moyenne de reconstruction : 0.022382\n",
      "Epoch 92, erreur quadratique moyenne de reconstruction : 0.022263\n",
      "Epoch 93, erreur quadratique moyenne de reconstruction : 0.022163\n",
      "Epoch 94, erreur quadratique moyenne de reconstruction : 0.022035\n",
      "Epoch 95, erreur quadratique moyenne de reconstruction : 0.021907\n",
      "Epoch 96, erreur quadratique moyenne de reconstruction : 0.021810\n",
      "Epoch 97, erreur quadratique moyenne de reconstruction : 0.021695\n",
      "Epoch 98, erreur quadratique moyenne de reconstruction : 0.021585\n",
      "Epoch 99, erreur quadratique moyenne de reconstruction : 0.021476\n"
     ]
    }
   ],
   "source": [
    "dbn_mnist = DBN([784,150, 150])\n",
    "dbn_mnist.train(X_train, learning_rate, batch_size, n_epochs)"
   ]
  },
  {
   "cell_type": "code",
   "execution_count": 63,
   "metadata": {},
   "outputs": [
    {
     "data": {
      "image/png": "[encoded data removed]",
      "text/plain": [
       "<Figure size 3000x1000 with 5 Axes>"
      ]
     },
     "metadata": {},
     "output_type": "display_data"
    }
   ],
   "source": [
    "images_dbn = dbn_mnist.generer_image(30, 10)\n"
   ]
  },
  {
   "cell_type": "code",
   "execution_count": 69,
   "metadata": {},
   "outputs": [
    {
     "data": {
      "image/png": "[encoded data removed]",
      "text/plain": [
       "<Figure size 3000x1000 with 5 Axes>"
      ]
     },
     "metadata": {},
     "output_type": "display_data"
    }
   ],
   "source": [
    "fig, axes = plt.subplots(1,5, figsize=(30,10))\n",
    "for i in range(5):\n",
    "    axes[i].imshow(images_dbn[i].reshape(28,28,1), cmap='gray')\n",
    "plt.savefig(\"dbn_mnist_images.png\")"
   ]
  },
  {
   "cell_type": "code",
   "execution_count": null,
   "metadata": {},
   "outputs": [],
   "source": []
  }
 ],
 "metadata": {
  "kernelspec": {
   "display_name": "venv_data_gen",
   "language": "python",
   "name": "python3"
  },
  "language_info": {
   "codemirror_mode": {
    "name": "ipython",
    "version": 3
   },
   "file_extension": ".py",
   "mimetype": "text/x-python",
   "name": "python",
   "nbconvert_exporter": "python",
   "pygments_lexer": "ipython3",
   "version": "3.8.10"
  },
  "orig_nbformat": 4
 },
 "nbformat": 4,
 "nbformat_minor": 2
}
