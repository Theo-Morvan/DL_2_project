{
 "cells": [
  {
   "attachments": {},
   "cell_type": "markdown",
   "metadata": {},
   "source": [
    "# RBM"
   ]
  },
  {
   "cell_type": "code",
   "execution_count": 1,
   "metadata": {},
   "outputs": [
    {
     "data": {
      "image/png": "[encoded data removed]",
      "text/plain": [
       "<Figure size 3900x1000 with 39 Axes>"
      ]
     },
     "metadata": {},
     "output_type": "display_data"
    }
   ],
   "source": [
    "from src.rbm import RBM\n",
    "from src.data import lire_alpha_digits\n",
    "from src.utils import display_alpha_digits\n",
    "\n",
    "X = lire_alpha_digits(\"data/binaryalphadigs.mat\", \"A\")\n",
    "display_alpha_digits(X)"
   ]
  },
  {
   "cell_type": "code",
   "execution_count": 2,
   "metadata": {},
   "outputs": [],
   "source": [
    "model = RBM(320, 40)"
   ]
  },
  {
   "cell_type": "code",
   "execution_count": 3,
   "metadata": {},
   "outputs": [
    {
     "name": "stdout",
     "output_type": "stream",
     "text": [
      "Epoch 0, erreur quadratique moyenne de reconstruction : 0.193502\n",
      "Epoch 1, erreur quadratique moyenne de reconstruction : 0.182485\n",
      "Epoch 2, erreur quadratique moyenne de reconstruction : 0.172777\n",
      "Epoch 3, erreur quadratique moyenne de reconstruction : 0.164649\n",
      "Epoch 4, erreur quadratique moyenne de reconstruction : 0.155127\n",
      "Epoch 5, erreur quadratique moyenne de reconstruction : 0.146913\n",
      "Epoch 6, erreur quadratique moyenne de reconstruction : 0.141099\n",
      "Epoch 7, erreur quadratique moyenne de reconstruction : 0.133402\n",
      "Epoch 8, erreur quadratique moyenne de reconstruction : 0.126883\n",
      "Epoch 9, erreur quadratique moyenne de reconstruction : 0.121502\n",
      "Epoch 10, erreur quadratique moyenne de reconstruction : 0.116922\n",
      "Epoch 11, erreur quadratique moyenne de reconstruction : 0.112748\n",
      "Epoch 12, erreur quadratique moyenne de reconstruction : 0.108921\n",
      "Epoch 13, erreur quadratique moyenne de reconstruction : 0.105431\n",
      "Epoch 14, erreur quadratique moyenne de reconstruction : 0.102268\n",
      "Epoch 15, erreur quadratique moyenne de reconstruction : 0.099385\n",
      "Epoch 16, erreur quadratique moyenne de reconstruction : 0.096734\n",
      "Epoch 17, erreur quadratique moyenne de reconstruction : 0.094281\n",
      "Epoch 18, erreur quadratique moyenne de reconstruction : 0.091964\n",
      "Epoch 19, erreur quadratique moyenne de reconstruction : 0.089696\n",
      "Epoch 20, erreur quadratique moyenne de reconstruction : 0.087399\n",
      "Epoch 21, erreur quadratique moyenne de reconstruction : 0.085102\n",
      "Epoch 22, erreur quadratique moyenne de reconstruction : 0.083063\n",
      "Epoch 23, erreur quadratique moyenne de reconstruction : 0.081155\n",
      "Epoch 24, erreur quadratique moyenne de reconstruction : 0.079363\n",
      "Epoch 25, erreur quadratique moyenne de reconstruction : 0.077674\n",
      "Epoch 26, erreur quadratique moyenne de reconstruction : 0.076054\n",
      "Epoch 27, erreur quadratique moyenne de reconstruction : 0.074489\n",
      "Epoch 28, erreur quadratique moyenne de reconstruction : 0.072985\n",
      "Epoch 29, erreur quadratique moyenne de reconstruction : 0.071530\n",
      "Epoch 30, erreur quadratique moyenne de reconstruction : 0.070126\n",
      "Epoch 31, erreur quadratique moyenne de reconstruction : 0.068785\n",
      "Epoch 32, erreur quadratique moyenne de reconstruction : 0.067476\n",
      "Epoch 33, erreur quadratique moyenne de reconstruction : 0.066202\n",
      "Epoch 34, erreur quadratique moyenne de reconstruction : 0.064993\n",
      "Epoch 35, erreur quadratique moyenne de reconstruction : 0.063836\n",
      "Epoch 36, erreur quadratique moyenne de reconstruction : 0.062689\n",
      "Epoch 37, erreur quadratique moyenne de reconstruction : 0.061550\n",
      "Epoch 38, erreur quadratique moyenne de reconstruction : 0.060455\n",
      "Epoch 39, erreur quadratique moyenne de reconstruction : 0.059364\n",
      "Epoch 40, erreur quadratique moyenne de reconstruction : 0.058296\n",
      "Epoch 41, erreur quadratique moyenne de reconstruction : 0.057259\n",
      "Epoch 42, erreur quadratique moyenne de reconstruction : 0.056273\n",
      "Epoch 43, erreur quadratique moyenne de reconstruction : 0.055345\n",
      "Epoch 44, erreur quadratique moyenne de reconstruction : 0.054456\n",
      "Epoch 45, erreur quadratique moyenne de reconstruction : 0.053585\n",
      "Epoch 46, erreur quadratique moyenne de reconstruction : 0.052737\n",
      "Epoch 47, erreur quadratique moyenne de reconstruction : 0.051925\n",
      "Epoch 48, erreur quadratique moyenne de reconstruction : 0.051077\n",
      "Epoch 49, erreur quadratique moyenne de reconstruction : 0.050359\n",
      "Epoch 50, erreur quadratique moyenne de reconstruction : 0.049615\n",
      "Epoch 51, erreur quadratique moyenne de reconstruction : 0.048945\n",
      "Epoch 52, erreur quadratique moyenne de reconstruction : 0.048250\n",
      "Epoch 53, erreur quadratique moyenne de reconstruction : 0.047593\n",
      "Epoch 54, erreur quadratique moyenne de reconstruction : 0.046920\n",
      "Epoch 55, erreur quadratique moyenne de reconstruction : 0.046312\n",
      "Epoch 56, erreur quadratique moyenne de reconstruction : 0.045696\n",
      "Epoch 57, erreur quadratique moyenne de reconstruction : 0.045062\n",
      "Epoch 58, erreur quadratique moyenne de reconstruction : 0.044423\n",
      "Epoch 59, erreur quadratique moyenne de reconstruction : 0.043843\n",
      "Epoch 60, erreur quadratique moyenne de reconstruction : 0.043276\n",
      "Epoch 61, erreur quadratique moyenne de reconstruction : 0.042716\n",
      "Epoch 62, erreur quadratique moyenne de reconstruction : 0.042167\n",
      "Epoch 63, erreur quadratique moyenne de reconstruction : 0.041695\n",
      "Epoch 64, erreur quadratique moyenne de reconstruction : 0.041133\n",
      "Epoch 65, erreur quadratique moyenne de reconstruction : 0.040632\n",
      "Epoch 66, erreur quadratique moyenne de reconstruction : 0.040111\n",
      "Epoch 67, erreur quadratique moyenne de reconstruction : 0.039596\n",
      "Epoch 68, erreur quadratique moyenne de reconstruction : 0.039057\n",
      "Epoch 69, erreur quadratique moyenne de reconstruction : 0.038549\n",
      "Epoch 70, erreur quadratique moyenne de reconstruction : 0.038084\n",
      "Epoch 71, erreur quadratique moyenne de reconstruction : 0.037541\n",
      "Epoch 72, erreur quadratique moyenne de reconstruction : 0.036993\n",
      "Epoch 73, erreur quadratique moyenne de reconstruction : 0.036462\n",
      "Epoch 74, erreur quadratique moyenne de reconstruction : 0.035904\n",
      "Epoch 75, erreur quadratique moyenne de reconstruction : 0.035425\n",
      "Epoch 76, erreur quadratique moyenne de reconstruction : 0.034962\n",
      "Epoch 77, erreur quadratique moyenne de reconstruction : 0.034503\n",
      "Epoch 78, erreur quadratique moyenne de reconstruction : 0.034113\n",
      "Epoch 79, erreur quadratique moyenne de reconstruction : 0.033590\n",
      "Epoch 80, erreur quadratique moyenne de reconstruction : 0.033238\n",
      "Epoch 81, erreur quadratique moyenne de reconstruction : 0.032734\n",
      "Epoch 82, erreur quadratique moyenne de reconstruction : 0.032410\n",
      "Epoch 83, erreur quadratique moyenne de reconstruction : 0.031889\n",
      "Epoch 84, erreur quadratique moyenne de reconstruction : 0.031544\n",
      "Epoch 85, erreur quadratique moyenne de reconstruction : 0.031118\n",
      "Epoch 86, erreur quadratique moyenne de reconstruction : 0.030805\n",
      "Epoch 87, erreur quadratique moyenne de reconstruction : 0.030365\n",
      "Epoch 88, erreur quadratique moyenne de reconstruction : 0.030033\n",
      "Epoch 89, erreur quadratique moyenne de reconstruction : 0.029685\n",
      "Epoch 90, erreur quadratique moyenne de reconstruction : 0.029330\n",
      "Epoch 91, erreur quadratique moyenne de reconstruction : 0.028985\n",
      "Epoch 92, erreur quadratique moyenne de reconstruction : 0.028664\n",
      "Epoch 93, erreur quadratique moyenne de reconstruction : 0.028294\n",
      "Epoch 94, erreur quadratique moyenne de reconstruction : 0.028003\n",
      "Epoch 95, erreur quadratique moyenne de reconstruction : 0.027689\n",
      "Epoch 96, erreur quadratique moyenne de reconstruction : 0.027410\n",
      "Epoch 97, erreur quadratique moyenne de reconstruction : 0.027025\n",
      "Epoch 98, erreur quadratique moyenne de reconstruction : 0.026767\n",
      "Epoch 99, erreur quadratique moyenne de reconstruction : 0.026486\n"
     ]
    }
   ],
   "source": [
    "model.train(X, 0.1, 4, 100)"
   ]
  },
  {
   "cell_type": "code",
   "execution_count": 4,
   "metadata": {},
   "outputs": [
    {
     "data": {
      "image/png": "[encoded data removed]",
      "text/plain": [
       "<Figure size 1000x1000 with 10 Axes>"
      ]
     },
     "metadata": {},
     "output_type": "display_data"
    }
   ],
   "source": [
    "generated = model.generer_image(100, 10)\n",
    "display_alpha_digits(generated)"
   ]
  },
  {
   "attachments": {},
   "cell_type": "markdown",
   "metadata": {},
   "source": [
    "# DBN"
   ]
  },
  {
   "cell_type": "code",
   "execution_count": 5,
   "metadata": {},
   "outputs": [],
   "source": [
    "from src.dbn import DBN\n",
    "\n",
    "model = DBN([320, 40, 40])"
   ]
  },
  {
   "cell_type": "code",
   "execution_count": 6,
   "metadata": {},
   "outputs": [
    {
     "name": "stdout",
     "output_type": "stream",
     "text": [
      "Epoch 0, erreur quadratique moyenne de reconstruction : 0.193563\n",
      "Epoch 1, erreur quadratique moyenne de reconstruction : 0.182393\n",
      "Epoch 2, erreur quadratique moyenne de reconstruction : 0.172298\n",
      "Epoch 3, erreur quadratique moyenne de reconstruction : 0.163695\n",
      "Epoch 4, erreur quadratique moyenne de reconstruction : 0.156167\n",
      "Epoch 5, erreur quadratique moyenne de reconstruction : 0.148117\n",
      "Epoch 6, erreur quadratique moyenne de reconstruction : 0.142900\n",
      "Epoch 7, erreur quadratique moyenne de reconstruction : 0.133880\n",
      "Epoch 8, erreur quadratique moyenne de reconstruction : 0.127961\n",
      "Epoch 9, erreur quadratique moyenne de reconstruction : 0.123038\n",
      "Epoch 10, erreur quadratique moyenne de reconstruction : 0.118875\n",
      "Epoch 11, erreur quadratique moyenne de reconstruction : 0.115251\n",
      "Epoch 12, erreur quadratique moyenne de reconstruction : 0.111954\n",
      "Epoch 13, erreur quadratique moyenne de reconstruction : 0.108813\n",
      "Epoch 14, erreur quadratique moyenne de reconstruction : 0.105866\n",
      "Epoch 15, erreur quadratique moyenne de reconstruction : 0.103185\n",
      "Epoch 16, erreur quadratique moyenne de reconstruction : 0.100618\n",
      "Epoch 17, erreur quadratique moyenne de reconstruction : 0.098123\n",
      "Epoch 18, erreur quadratique moyenne de reconstruction : 0.095748\n",
      "Epoch 19, erreur quadratique moyenne de reconstruction : 0.093443\n",
      "Epoch 20, erreur quadratique moyenne de reconstruction : 0.091163\n",
      "Epoch 21, erreur quadratique moyenne de reconstruction : 0.088925\n",
      "Epoch 22, erreur quadratique moyenne de reconstruction : 0.086791\n",
      "Epoch 23, erreur quadratique moyenne de reconstruction : 0.084682\n",
      "Epoch 24, erreur quadratique moyenne de reconstruction : 0.082579\n",
      "Epoch 25, erreur quadratique moyenne de reconstruction : 0.080593\n",
      "Epoch 26, erreur quadratique moyenne de reconstruction : 0.078795\n",
      "Epoch 27, erreur quadratique moyenne de reconstruction : 0.077105\n",
      "Epoch 28, erreur quadratique moyenne de reconstruction : 0.075471\n",
      "Epoch 29, erreur quadratique moyenne de reconstruction : 0.073914\n",
      "Epoch 30, erreur quadratique moyenne de reconstruction : 0.072437\n",
      "Epoch 31, erreur quadratique moyenne de reconstruction : 0.071003\n",
      "Epoch 32, erreur quadratique moyenne de reconstruction : 0.069601\n",
      "Epoch 33, erreur quadratique moyenne de reconstruction : 0.068228\n",
      "Epoch 34, erreur quadratique moyenne de reconstruction : 0.066920\n",
      "Epoch 35, erreur quadratique moyenne de reconstruction : 0.065653\n",
      "Epoch 36, erreur quadratique moyenne de reconstruction : 0.064448\n",
      "Epoch 37, erreur quadratique moyenne de reconstruction : 0.063294\n",
      "Epoch 38, erreur quadratique moyenne de reconstruction : 0.062183\n",
      "Epoch 39, erreur quadratique moyenne de reconstruction : 0.061104\n",
      "Epoch 40, erreur quadratique moyenne de reconstruction : 0.060018\n",
      "Epoch 41, erreur quadratique moyenne de reconstruction : 0.058926\n",
      "Epoch 42, erreur quadratique moyenne de reconstruction : 0.057956\n",
      "Epoch 43, erreur quadratique moyenne de reconstruction : 0.057071\n",
      "Epoch 44, erreur quadratique moyenne de reconstruction : 0.056209\n",
      "Epoch 45, erreur quadratique moyenne de reconstruction : 0.055363\n",
      "Epoch 46, erreur quadratique moyenne de reconstruction : 0.054527\n",
      "Epoch 47, erreur quadratique moyenne de reconstruction : 0.053716\n",
      "Epoch 48, erreur quadratique moyenne de reconstruction : 0.052942\n",
      "Epoch 49, erreur quadratique moyenne de reconstruction : 0.052185\n",
      "Epoch 50, erreur quadratique moyenne de reconstruction : 0.051422\n",
      "Epoch 51, erreur quadratique moyenne de reconstruction : 0.050546\n",
      "Epoch 52, erreur quadratique moyenne de reconstruction : 0.049619\n",
      "Epoch 53, erreur quadratique moyenne de reconstruction : 0.048893\n",
      "Epoch 54, erreur quadratique moyenne de reconstruction : 0.048195\n",
      "Epoch 55, erreur quadratique moyenne de reconstruction : 0.047536\n",
      "Epoch 56, erreur quadratique moyenne de reconstruction : 0.046882\n",
      "Epoch 57, erreur quadratique moyenne de reconstruction : 0.046239\n",
      "Epoch 58, erreur quadratique moyenne de reconstruction : 0.045609\n",
      "Epoch 59, erreur quadratique moyenne de reconstruction : 0.044989\n",
      "Epoch 60, erreur quadratique moyenne de reconstruction : 0.044379\n",
      "Epoch 61, erreur quadratique moyenne de reconstruction : 0.043796\n",
      "Epoch 62, erreur quadratique moyenne de reconstruction : 0.043235\n",
      "Epoch 63, erreur quadratique moyenne de reconstruction : 0.042640\n",
      "Epoch 64, erreur quadratique moyenne de reconstruction : 0.041975\n",
      "Epoch 65, erreur quadratique moyenne de reconstruction : 0.041298\n",
      "Epoch 66, erreur quadratique moyenne de reconstruction : 0.040729\n",
      "Epoch 67, erreur quadratique moyenne de reconstruction : 0.040158\n",
      "Epoch 68, erreur quadratique moyenne de reconstruction : 0.039537\n",
      "Epoch 69, erreur quadratique moyenne de reconstruction : 0.039007\n",
      "Epoch 70, erreur quadratique moyenne de reconstruction : 0.038492\n",
      "Epoch 71, erreur quadratique moyenne de reconstruction : 0.037990\n",
      "Epoch 72, erreur quadratique moyenne de reconstruction : 0.037491\n",
      "Epoch 73, erreur quadratique moyenne de reconstruction : 0.036994\n",
      "Epoch 74, erreur quadratique moyenne de reconstruction : 0.036500\n",
      "Epoch 75, erreur quadratique moyenne de reconstruction : 0.036003\n",
      "Epoch 76, erreur quadratique moyenne de reconstruction : 0.035504\n",
      "Epoch 77, erreur quadratique moyenne de reconstruction : 0.034978\n",
      "Epoch 78, erreur quadratique moyenne de reconstruction : 0.034448\n",
      "Epoch 79, erreur quadratique moyenne de reconstruction : 0.033910\n",
      "Epoch 80, erreur quadratique moyenne de reconstruction : 0.033450\n",
      "Epoch 81, erreur quadratique moyenne de reconstruction : 0.032973\n",
      "Epoch 82, erreur quadratique moyenne de reconstruction : 0.032599\n",
      "Epoch 83, erreur quadratique moyenne de reconstruction : 0.032164\n",
      "Epoch 84, erreur quadratique moyenne de reconstruction : 0.031788\n",
      "Epoch 85, erreur quadratique moyenne de reconstruction : 0.031354\n",
      "Epoch 86, erreur quadratique moyenne de reconstruction : 0.030966\n",
      "Epoch 87, erreur quadratique moyenne de reconstruction : 0.030512\n",
      "Epoch 88, erreur quadratique moyenne de reconstruction : 0.030158\n",
      "Epoch 89, erreur quadratique moyenne de reconstruction : 0.029762\n",
      "Epoch 90, erreur quadratique moyenne de reconstruction : 0.029423\n",
      "Epoch 91, erreur quadratique moyenne de reconstruction : 0.029042\n",
      "Epoch 92, erreur quadratique moyenne de reconstruction : 0.028698\n",
      "Epoch 93, erreur quadratique moyenne de reconstruction : 0.028327\n",
      "Epoch 94, erreur quadratique moyenne de reconstruction : 0.028010\n",
      "Epoch 95, erreur quadratique moyenne de reconstruction : 0.027660\n",
      "Epoch 96, erreur quadratique moyenne de reconstruction : 0.027359\n",
      "Epoch 97, erreur quadratique moyenne de reconstruction : 0.027008\n",
      "Epoch 98, erreur quadratique moyenne de reconstruction : 0.026728\n",
      "Epoch 99, erreur quadratique moyenne de reconstruction : 0.026402\n",
      "Epoch 0, erreur quadratique moyenne de reconstruction : 0.189451\n",
      "Epoch 1, erreur quadratique moyenne de reconstruction : 0.190815\n",
      "Epoch 2, erreur quadratique moyenne de reconstruction : 0.190675\n",
      "Epoch 3, erreur quadratique moyenne de reconstruction : 0.189882\n",
      "Epoch 4, erreur quadratique moyenne de reconstruction : 0.188064\n",
      "Epoch 5, erreur quadratique moyenne de reconstruction : 0.184158\n",
      "Epoch 6, erreur quadratique moyenne de reconstruction : 0.176587\n",
      "Epoch 7, erreur quadratique moyenne de reconstruction : 0.164640\n",
      "Epoch 8, erreur quadratique moyenne de reconstruction : 0.151173\n",
      "Epoch 9, erreur quadratique moyenne de reconstruction : 0.141167\n",
      "Epoch 10, erreur quadratique moyenne de reconstruction : 0.135119\n",
      "Epoch 11, erreur quadratique moyenne de reconstruction : 0.130399\n",
      "Epoch 12, erreur quadratique moyenne de reconstruction : 0.125062\n",
      "Epoch 13, erreur quadratique moyenne de reconstruction : 0.118329\n",
      "Epoch 14, erreur quadratique moyenne de reconstruction : 0.110674\n",
      "Epoch 15, erreur quadratique moyenne de reconstruction : 0.103676\n",
      "Epoch 16, erreur quadratique moyenne de reconstruction : 0.098519\n",
      "Epoch 17, erreur quadratique moyenne de reconstruction : 0.095033\n",
      "Epoch 18, erreur quadratique moyenne de reconstruction : 0.092532\n",
      "Epoch 19, erreur quadratique moyenne de reconstruction : 0.090504\n",
      "Epoch 20, erreur quadratique moyenne de reconstruction : 0.088667\n",
      "Epoch 21, erreur quadratique moyenne de reconstruction : 0.086873\n",
      "Epoch 22, erreur quadratique moyenne de reconstruction : 0.085040\n",
      "Epoch 23, erreur quadratique moyenne de reconstruction : 0.083131\n",
      "Epoch 24, erreur quadratique moyenne de reconstruction : 0.081138\n",
      "Epoch 25, erreur quadratique moyenne de reconstruction : 0.079079\n",
      "Epoch 26, erreur quadratique moyenne de reconstruction : 0.076993\n",
      "Epoch 27, erreur quadratique moyenne de reconstruction : 0.074927\n",
      "Epoch 28, erreur quadratique moyenne de reconstruction : 0.072926\n",
      "Epoch 29, erreur quadratique moyenne de reconstruction : 0.071020\n",
      "Epoch 30, erreur quadratique moyenne de reconstruction : 0.069226\n",
      "Epoch 31, erreur quadratique moyenne de reconstruction : 0.067549\n",
      "Epoch 32, erreur quadratique moyenne de reconstruction : 0.065984\n",
      "Epoch 33, erreur quadratique moyenne de reconstruction : 0.064519\n",
      "Epoch 34, erreur quadratique moyenne de reconstruction : 0.063141\n",
      "Epoch 35, erreur quadratique moyenne de reconstruction : 0.061831\n",
      "Epoch 36, erreur quadratique moyenne de reconstruction : 0.060576\n",
      "Epoch 37, erreur quadratique moyenne de reconstruction : 0.059360\n",
      "Epoch 38, erreur quadratique moyenne de reconstruction : 0.058171\n",
      "Epoch 39, erreur quadratique moyenne de reconstruction : 0.057001\n",
      "Epoch 40, erreur quadratique moyenne de reconstruction : 0.055842\n",
      "Epoch 41, erreur quadratique moyenne de reconstruction : 0.054688\n",
      "Epoch 42, erreur quadratique moyenne de reconstruction : 0.053536\n",
      "Epoch 43, erreur quadratique moyenne de reconstruction : 0.052384\n",
      "Epoch 44, erreur quadratique moyenne de reconstruction : 0.051231\n",
      "Epoch 45, erreur quadratique moyenne de reconstruction : 0.050078\n",
      "Epoch 46, erreur quadratique moyenne de reconstruction : 0.048925\n",
      "Epoch 47, erreur quadratique moyenne de reconstruction : 0.047773\n",
      "Epoch 48, erreur quadratique moyenne de reconstruction : 0.046625\n",
      "Epoch 49, erreur quadratique moyenne de reconstruction : 0.045483\n",
      "Epoch 50, erreur quadratique moyenne de reconstruction : 0.044350\n",
      "Epoch 51, erreur quadratique moyenne de reconstruction : 0.043230\n",
      "Epoch 52, erreur quadratique moyenne de reconstruction : 0.042125\n",
      "Epoch 53, erreur quadratique moyenne de reconstruction : 0.041041\n",
      "Epoch 54, erreur quadratique moyenne de reconstruction : 0.039981\n",
      "Epoch 55, erreur quadratique moyenne de reconstruction : 0.038948\n",
      "Epoch 56, erreur quadratique moyenne de reconstruction : 0.037945\n",
      "Epoch 57, erreur quadratique moyenne de reconstruction : 0.036975\n",
      "Epoch 58, erreur quadratique moyenne de reconstruction : 0.036037\n",
      "Epoch 59, erreur quadratique moyenne de reconstruction : 0.035133\n",
      "Epoch 60, erreur quadratique moyenne de reconstruction : 0.034262\n",
      "Epoch 61, erreur quadratique moyenne de reconstruction : 0.033424\n",
      "Epoch 62, erreur quadratique moyenne de reconstruction : 0.032617\n",
      "Epoch 63, erreur quadratique moyenne de reconstruction : 0.031839\n",
      "Epoch 64, erreur quadratique moyenne de reconstruction : 0.031090\n",
      "Epoch 65, erreur quadratique moyenne de reconstruction : 0.030368\n",
      "Epoch 66, erreur quadratique moyenne de reconstruction : 0.029670\n",
      "Epoch 67, erreur quadratique moyenne de reconstruction : 0.028996\n",
      "Epoch 68, erreur quadratique moyenne de reconstruction : 0.028344\n",
      "Epoch 69, erreur quadratique moyenne de reconstruction : 0.027713\n",
      "Epoch 70, erreur quadratique moyenne de reconstruction : 0.027101\n",
      "Epoch 71, erreur quadratique moyenne de reconstruction : 0.026507\n",
      "Epoch 72, erreur quadratique moyenne de reconstruction : 0.025931\n",
      "Epoch 73, erreur quadratique moyenne de reconstruction : 0.025370\n",
      "Epoch 74, erreur quadratique moyenne de reconstruction : 0.024825\n",
      "Epoch 75, erreur quadratique moyenne de reconstruction : 0.024294\n",
      "Epoch 76, erreur quadratique moyenne de reconstruction : 0.023776\n",
      "Epoch 77, erreur quadratique moyenne de reconstruction : 0.023272\n",
      "Epoch 78, erreur quadratique moyenne de reconstruction : 0.022779\n",
      "Epoch 79, erreur quadratique moyenne de reconstruction : 0.022299\n",
      "Epoch 80, erreur quadratique moyenne de reconstruction : 0.021829\n",
      "Epoch 81, erreur quadratique moyenne de reconstruction : 0.021370\n",
      "Epoch 82, erreur quadratique moyenne de reconstruction : 0.020922\n",
      "Epoch 83, erreur quadratique moyenne de reconstruction : 0.020484\n",
      "Epoch 84, erreur quadratique moyenne de reconstruction : 0.020055\n",
      "Epoch 85, erreur quadratique moyenne de reconstruction : 0.019635\n",
      "Epoch 86, erreur quadratique moyenne de reconstruction : 0.019224\n",
      "Epoch 87, erreur quadratique moyenne de reconstruction : 0.018822\n",
      "Epoch 88, erreur quadratique moyenne de reconstruction : 0.018428\n",
      "Epoch 89, erreur quadratique moyenne de reconstruction : 0.018043\n",
      "Epoch 90, erreur quadratique moyenne de reconstruction : 0.017665\n",
      "Epoch 91, erreur quadratique moyenne de reconstruction : 0.017295\n",
      "Epoch 92, erreur quadratique moyenne de reconstruction : 0.016933\n",
      "Epoch 93, erreur quadratique moyenne de reconstruction : 0.016578\n",
      "Epoch 94, erreur quadratique moyenne de reconstruction : 0.016230\n",
      "Epoch 95, erreur quadratique moyenne de reconstruction : 0.015889\n",
      "Epoch 96, erreur quadratique moyenne de reconstruction : 0.015555\n",
      "Epoch 97, erreur quadratique moyenne de reconstruction : 0.015228\n",
      "Epoch 98, erreur quadratique moyenne de reconstruction : 0.014908\n",
      "Epoch 99, erreur quadratique moyenne de reconstruction : 0.014594\n"
     ]
    }
   ],
   "source": [
    "model.train(X, 0.1, 4, 100)"
   ]
  },
  {
   "cell_type": "code",
   "execution_count": 7,
   "metadata": {},
   "outputs": [
    {
     "data": {
      "image/png": "[encoded data removed]",
      "text/plain": [
       "<Figure size 1000x1000 with 10 Axes>"
      ]
     },
     "metadata": {},
     "output_type": "display_data"
    }
   ],
   "source": [
    "generated = model.generer_image(100, 10)\n",
    "display_alpha_digits(generated)"
   ]
  },
  {
   "attachments": {},
   "cell_type": "markdown",
   "metadata": {},
   "source": [
    "## MNIST"
   ]
  },
  {
   "cell_type": "code",
   "execution_count": 8,
   "metadata": {},
   "outputs": [],
   "source": [
    "from src.data import lire_mnist\n",
    "\n",
    "X_train, y_train, X_test, y_test = lire_mnist(\"data/mnist_train.csv\", \"data/mnist_test.csv\")"
   ]
  },
  {
   "cell_type": "code",
   "execution_count": 9,
   "metadata": {},
   "outputs": [
    {
     "name": "stdout",
     "output_type": "stream",
     "text": [
      "Epoch 0, erreur quadratique moyenne de reconstruction : 0.122532\n",
      "Epoch 1, erreur quadratique moyenne de reconstruction : 0.100711\n",
      "Epoch 2, erreur quadratique moyenne de reconstruction : 0.098349\n",
      "Epoch 3, erreur quadratique moyenne de reconstruction : 0.096349\n",
      "Epoch 4, erreur quadratique moyenne de reconstruction : 0.094170\n",
      "Epoch 5, erreur quadratique moyenne de reconstruction : 0.090220\n",
      "Epoch 6, erreur quadratique moyenne de reconstruction : 0.086379\n",
      "Epoch 7, erreur quadratique moyenne de reconstruction : 0.080884\n",
      "Epoch 8, erreur quadratique moyenne de reconstruction : 0.077453\n",
      "Epoch 9, erreur quadratique moyenne de reconstruction : 0.075219\n",
      "Epoch 0, erreur quadratique moyenne de reconstruction : 0.099166\n",
      "Epoch 1, erreur quadratique moyenne de reconstruction : 0.097918\n",
      "Epoch 2, erreur quadratique moyenne de reconstruction : 0.096621\n",
      "Epoch 3, erreur quadratique moyenne de reconstruction : 0.094809\n",
      "Epoch 4, erreur quadratique moyenne de reconstruction : 0.091788\n",
      "Epoch 5, erreur quadratique moyenne de reconstruction : 0.086610\n",
      "Epoch 6, erreur quadratique moyenne de reconstruction : 0.079715\n",
      "Epoch 7, erreur quadratique moyenne de reconstruction : 0.072710\n",
      "Epoch 8, erreur quadratique moyenne de reconstruction : 0.067441\n",
      "Epoch 9, erreur quadratique moyenne de reconstruction : 0.063891\n"
     ]
    }
   ],
   "source": [
    "dbn_mnist = DBN([784, 100, 40])\n",
    "dbn_mnist.train(X_train, 0.1, 10000, 10)"
   ]
  },
  {
   "attachments": {},
   "cell_type": "markdown",
   "metadata": {},
   "source": [
    "# DNN"
   ]
  },
  {
   "cell_type": "code",
   "execution_count": 14,
   "metadata": {},
   "outputs": [],
   "source": [
    "from src.dnn import DNN\n",
    "from src.data import lire_mnist\n",
    "\n",
    "X_train, y_train, X_test, y_test = lire_mnist(\"data/mnist_train.csv\", \"data/mnist_test.csv\")"
   ]
  },
  {
   "cell_type": "code",
   "execution_count": 21,
   "metadata": {},
   "outputs": [
    {
     "name": "stdout",
     "output_type": "stream",
     "text": [
      "Epoch 0, erreur quadratique moyenne de reconstruction : 0.077946\n",
      "Epoch 1, erreur quadratique moyenne de reconstruction : 0.061237\n",
      "Epoch 2, erreur quadratique moyenne de reconstruction : 0.053918\n",
      "Epoch 3, erreur quadratique moyenne de reconstruction : 0.049497\n",
      "Epoch 0, erreur quadratique moyenne de reconstruction : 0.133110\n",
      "Epoch 1, erreur quadratique moyenne de reconstruction : 0.069935\n",
      "Epoch 2, erreur quadratique moyenne de reconstruction : 0.043795\n",
      "Epoch 3, erreur quadratique moyenne de reconstruction : 0.031981\n",
      "Epoch 1/10 - Cross entropy: 1.1390019573388366\n",
      "Epoch 2/10 - Cross entropy: 0.9137317727621321\n",
      "Epoch 3/10 - Cross entropy: 0.8176918607492081\n",
      "Epoch 4/10 - Cross entropy: 0.7607514599807105\n",
      "Epoch 5/10 - Cross entropy: 0.7210254865765576\n",
      "Epoch 6/10 - Cross entropy: 0.6905550995763531\n",
      "Epoch 7/10 - Cross entropy: 0.6657195140935388\n",
      "Epoch 8/10 - Cross entropy: 0.644621600657862\n",
      "Epoch 9/10 - Cross entropy: 0.6261654396983158\n",
      "Epoch 10/10 - Cross entropy: 0.6096708405519083\n"
     ]
    },
    {
     "data": {
      "text/plain": [
       "0.8122"
      ]
     },
     "execution_count": 21,
     "metadata": {},
     "output_type": "execute_result"
    }
   ],
   "source": [
    "model = DNN([784, 100, 100, 10])\n",
    "model.pretrain(X_train, 0.1, 1000, 5)\n",
    "model.retropropagation(X_train, y_train, 0.1, 1000, 15)\n",
    "model.test(X_test, y_test)"
   ]
  },
  {
   "cell_type": "code",
   "execution_count": 22,
   "metadata": {},
   "outputs": [
    {
     "name": "stdout",
     "output_type": "stream",
     "text": [
      "Epoch 1/100 - Cross entropy: 2.3015006313369524\n",
      "Epoch 2/100 - Cross entropy: 2.301492358183289\n",
      "Epoch 3/100 - Cross entropy: 2.301483969288366\n",
      "Epoch 4/100 - Cross entropy: 2.301475422117864\n",
      "Epoch 5/100 - Cross entropy: 2.3014666724560677\n",
      "Epoch 6/100 - Cross entropy: 2.301457673871207\n",
      "Epoch 7/100 - Cross entropy: 2.3014483771313894\n",
      "Epoch 8/100 - Cross entropy: 2.3014387295602656\n",
      "Epoch 9/100 - Cross entropy: 2.3014286743163366\n",
      "Epoch 10/100 - Cross entropy: 2.301418149577102\n",
      "Epoch 11/100 - Cross entropy: 2.3014070876055706\n",
      "Epoch 12/100 - Cross entropy: 2.301395413672132\n",
      "Epoch 13/100 - Cross entropy: 2.301383044798862\n",
      "Epoch 14/100 - Cross entropy: 2.3013698882858757\n",
      "Epoch 15/100 - Cross entropy: 2.301355839969698\n",
      "Epoch 16/100 - Cross entropy: 2.3013407821512795\n",
      "Epoch 17/100 - Cross entropy: 2.3013245811153342\n",
      "Epoch 18/100 - Cross entropy: 2.301307084141932\n",
      "Epoch 19/100 - Cross entropy: 2.3012881158841965\n",
      "Epoch 20/100 - Cross entropy: 2.3012674739503223\n",
      "Epoch 21/100 - Cross entropy: 2.3012449234809167\n",
      "Epoch 22/100 - Cross entropy: 2.3012201904496066\n",
      "Epoch 23/100 - Cross entropy: 2.3011929533300126\n",
      "Epoch 24/100 - Cross entropy: 2.3011628326569524\n",
      "Epoch 25/100 - Cross entropy: 2.301129377851752\n",
      "Epoch 26/100 - Cross entropy: 2.3010920504630756\n",
      "Epoch 27/100 - Cross entropy: 2.301050202668865\n",
      "Epoch 28/100 - Cross entropy: 2.301003049452882\n",
      "Epoch 29/100 - Cross entropy: 2.3009496322507474\n",
      "Epoch 30/100 - Cross entropy: 2.3008887709643537\n",
      "Epoch 31/100 - Cross entropy: 2.300818999927312\n",
      "Epoch 32/100 - Cross entropy: 2.300738481443608\n",
      "Epoch 33/100 - Cross entropy: 2.3006448875549905\n",
      "Epoch 34/100 - Cross entropy: 2.3005352361298215\n",
      "Epoch 35/100 - Cross entropy: 2.3004056602214886\n",
      "Epoch 36/100 - Cross entropy: 2.3002510782413386\n",
      "Epoch 37/100 - Cross entropy: 2.300064713910995\n",
      "Epoch 38/100 - Cross entropy: 2.299837384000509\n",
      "Epoch 39/100 - Cross entropy: 2.2995564190134226\n",
      "Epoch 40/100 - Cross entropy: 2.2992039893795098\n",
      "Epoch 41/100 - Cross entropy: 2.298754442783846\n",
      "Epoch 42/100 - Cross entropy: 2.298169947953744\n",
      "Epoch 43/100 - Cross entropy: 2.29739314403255\n",
      "Epoch 44/100 - Cross entropy: 2.296334308182814\n",
      "Epoch 45/100 - Cross entropy: 2.294848104597163\n",
      "Epoch 46/100 - Cross entropy: 2.292689733556175\n",
      "Epoch 47/100 - Cross entropy: 2.2894287055622486\n",
      "Epoch 48/100 - Cross entropy: 2.284272405252723\n",
      "Epoch 49/100 - Cross entropy: 2.2756947243164642\n",
      "Epoch 50/100 - Cross entropy: 2.260662901274114\n",
      "Epoch 51/100 - Cross entropy: 2.233245951193321\n",
      "Epoch 52/100 - Cross entropy: 2.1836739828829663\n",
      "Epoch 53/100 - Cross entropy: 2.1049652305743933\n",
      "Epoch 54/100 - Cross entropy: 2.011765283111253\n",
      "Epoch 55/100 - Cross entropy: 1.9310484754216646\n",
      "Epoch 56/100 - Cross entropy: 1.8695330727765194\n",
      "Epoch 57/100 - Cross entropy: 1.8202904453748658\n",
      "Epoch 58/100 - Cross entropy: 1.7757528782890475\n",
      "Epoch 59/100 - Cross entropy: 1.729219727061807\n",
      "Epoch 60/100 - Cross entropy: 1.6730571408830692\n",
      "Epoch 61/100 - Cross entropy: 1.5978360402016287\n",
      "Epoch 62/100 - Cross entropy: 1.497234137691167\n",
      "Epoch 63/100 - Cross entropy: 1.3793181461638864\n",
      "Epoch 64/100 - Cross entropy: 1.2619431425007626\n",
      "Epoch 65/100 - Cross entropy: 1.1564705063580376\n",
      "Epoch 66/100 - Cross entropy: 1.068953555090854\n",
      "Epoch 67/100 - Cross entropy: 1.0007518567966796\n",
      "Epoch 68/100 - Cross entropy: 0.9487427144962871\n",
      "Epoch 69/100 - Cross entropy: 0.908668061564287\n",
      "Epoch 70/100 - Cross entropy: 0.8769617194218399\n",
      "Epoch 71/100 - Cross entropy: 0.8510721942655691\n",
      "Epoch 72/100 - Cross entropy: 0.8292839367877458\n",
      "Epoch 73/100 - Cross entropy: 0.810455795732608\n",
      "Epoch 74/100 - Cross entropy: 0.7938132090974205\n",
      "Epoch 75/100 - Cross entropy: 0.7788152977133794\n",
      "Epoch 76/100 - Cross entropy: 0.7650771326127476\n",
      "Epoch 77/100 - Cross entropy: 0.7523230647562315\n",
      "Epoch 78/100 - Cross entropy: 0.7403547455145285\n",
      "Epoch 79/100 - Cross entropy: 0.7290269535513171\n",
      "Epoch 80/100 - Cross entropy: 0.7182301858606358\n",
      "Epoch 81/100 - Cross entropy: 0.7078792978679954\n",
      "Epoch 82/100 - Cross entropy: 0.6979063466249212\n",
      "Epoch 83/100 - Cross entropy: 0.6882561654672066\n",
      "Epoch 84/100 - Cross entropy: 0.6788839517579327\n",
      "Epoch 85/100 - Cross entropy: 0.6697542516224149\n",
      "Epoch 86/100 - Cross entropy: 0.6608405778881511\n",
      "Epoch 87/100 - Cross entropy: 0.6521249592233798\n",
      "Epoch 88/100 - Cross entropy: 0.6435969859137634\n",
      "Epoch 89/100 - Cross entropy: 0.6352522428545211\n",
      "Epoch 90/100 - Cross entropy: 0.6270903233877396\n",
      "Epoch 91/100 - Cross entropy: 0.6191128273387503\n",
      "Epoch 92/100 - Cross entropy: 0.6113217591354823\n",
      "Epoch 93/100 - Cross entropy: 0.6037185430118123\n",
      "Epoch 94/100 - Cross entropy: 0.5963036096924167\n",
      "Epoch 95/100 - Cross entropy: 0.5890763542403953\n",
      "Epoch 96/100 - Cross entropy: 0.5820352594315044\n",
      "Epoch 97/100 - Cross entropy: 0.5751780527478786\n",
      "Epoch 98/100 - Cross entropy: 0.568501840347023\n",
      "Epoch 99/100 - Cross entropy: 0.5620032062473059\n",
      "Epoch 100/100 - Cross entropy: 0.5556782825303221\n"
     ]
    },
    {
     "data": {
      "text/plain": [
       "0.8461"
      ]
     },
     "execution_count": 22,
     "metadata": {},
     "output_type": "execute_result"
    }
   ],
   "source": [
    "model = DNN([784, 100, 100, 10])\n",
    "model.retropropagation(X_train, y_train, 0.1, 1000, 100)\n",
    "model.test(X_test, y_test)"
   ]
  },
  {
   "cell_type": "code",
   "execution_count": null,
   "metadata": {},
   "outputs": [],
   "source": []
  }
 ],
 "metadata": {
  "kernelspec": {
   "display_name": "base",
   "language": "python",
   "name": "python3"
  },
  "language_info": {
   "codemirror_mode": {
    "name": "ipython",
    "version": 3
   },
   "file_extension": ".py",
   "mimetype": "text/x-python",
   "name": "python",
   "nbconvert_exporter": "python",
   "pygments_lexer": "ipython3",
   "version": "3.9.5"
  },
  "orig_nbformat": 4
 },
 "nbformat": 4,
 "nbformat_minor": 2
}
