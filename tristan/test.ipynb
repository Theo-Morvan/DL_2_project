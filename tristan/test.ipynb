{
 "cells": [
  {
   "attachments": {},
   "cell_type": "markdown",
   "metadata": {},
   "source": [
    "# RBM"
   ]
  },
  {
   "cell_type": "code",
   "execution_count": 3,
   "metadata": {},
   "outputs": [
    {
     "name": "stdout",
     "output_type": "stream",
     "text": [
      "The autoreload extension is already loaded. To reload it, use:\n",
      "  %reload_ext autoreload\n"
     ]
    },
    {
     "data": {
      "image/png": "[encoded data removed]",
      "text/plain": [
       "<Figure size 3900x1000 with 39 Axes>"
      ]
     },
     "metadata": {},
     "output_type": "display_data"
    }
   ],
   "source": [
    "from src.rbm import RBM\n",
    "from src.data import lire_alpha_digits\n",
    "from src.utils import display_alpha_digits\n",
    "%load_ext autoreload\n",
    "%autoreload 2\n",
    "\n",
    "X = lire_alpha_digits(\"./data/binaryalphadigs.mat\", \"A\")\n",
    "display_alpha_digits(X)"
   ]
  },
  {
   "cell_type": "code",
   "execution_count": 4,
   "metadata": {},
   "outputs": [],
   "source": [
    "model = RBM(320, 40)"
   ]
  },
  {
   "cell_type": "code",
   "execution_count": 5,
   "metadata": {},
   "outputs": [
    {
     "name": "stdout",
     "output_type": "stream",
     "text": [
      "Epoch 0, erreur quadratique moyenne de reconstruction : 0.196383\n",
      "Epoch 1, erreur quadratique moyenne de reconstruction : 0.185710\n",
      "Epoch 2, erreur quadratique moyenne de reconstruction : 0.176067\n",
      "Epoch 3, erreur quadratique moyenne de reconstruction : 0.170760\n",
      "Epoch 4, erreur quadratique moyenne de reconstruction : 0.163958\n",
      "Epoch 5, erreur quadratique moyenne de reconstruction : 0.159367\n",
      "Epoch 6, erreur quadratique moyenne de reconstruction : 0.154323\n",
      "Epoch 7, erreur quadratique moyenne de reconstruction : 0.148727\n",
      "Epoch 8, erreur quadratique moyenne de reconstruction : 0.140592\n",
      "Epoch 9, erreur quadratique moyenne de reconstruction : 0.135475\n",
      "Epoch 10, erreur quadratique moyenne de reconstruction : 0.129939\n",
      "Epoch 11, erreur quadratique moyenne de reconstruction : 0.127032\n",
      "Epoch 12, erreur quadratique moyenne de reconstruction : 0.122204\n",
      "Epoch 13, erreur quadratique moyenne de reconstruction : 0.119811\n",
      "Epoch 14, erreur quadratique moyenne de reconstruction : 0.115800\n",
      "Epoch 15, erreur quadratique moyenne de reconstruction : 0.113363\n",
      "Epoch 16, erreur quadratique moyenne de reconstruction : 0.110884\n",
      "Epoch 17, erreur quadratique moyenne de reconstruction : 0.107534\n",
      "Epoch 18, erreur quadratique moyenne de reconstruction : 0.104633\n",
      "Epoch 19, erreur quadratique moyenne de reconstruction : 0.103076\n",
      "Epoch 20, erreur quadratique moyenne de reconstruction : 0.100699\n",
      "Epoch 21, erreur quadratique moyenne de reconstruction : 0.098307\n",
      "Epoch 22, erreur quadratique moyenne de reconstruction : 0.096818\n",
      "Epoch 23, erreur quadratique moyenne de reconstruction : 0.095224\n",
      "Epoch 24, erreur quadratique moyenne de reconstruction : 0.094234\n",
      "Epoch 25, erreur quadratique moyenne de reconstruction : 0.092054\n",
      "Epoch 26, erreur quadratique moyenne de reconstruction : 0.089565\n",
      "Epoch 27, erreur quadratique moyenne de reconstruction : 0.087904\n",
      "Epoch 28, erreur quadratique moyenne de reconstruction : 0.086317\n",
      "Epoch 29, erreur quadratique moyenne de reconstruction : 0.085067\n",
      "Epoch 30, erreur quadratique moyenne de reconstruction : 0.083795\n",
      "Epoch 31, erreur quadratique moyenne de reconstruction : 0.081090\n",
      "Epoch 32, erreur quadratique moyenne de reconstruction : 0.079512\n",
      "Epoch 33, erreur quadratique moyenne de reconstruction : 0.078392\n",
      "Epoch 34, erreur quadratique moyenne de reconstruction : 0.076913\n",
      "Epoch 35, erreur quadratique moyenne de reconstruction : 0.075394\n",
      "Epoch 36, erreur quadratique moyenne de reconstruction : 0.074698\n",
      "Epoch 37, erreur quadratique moyenne de reconstruction : 0.071898\n",
      "Epoch 38, erreur quadratique moyenne de reconstruction : 0.071212\n",
      "Epoch 39, erreur quadratique moyenne de reconstruction : 0.069473\n",
      "Epoch 40, erreur quadratique moyenne de reconstruction : 0.068711\n",
      "Epoch 41, erreur quadratique moyenne de reconstruction : 0.067765\n",
      "Epoch 42, erreur quadratique moyenne de reconstruction : 0.066797\n",
      "Epoch 43, erreur quadratique moyenne de reconstruction : 0.065534\n",
      "Epoch 44, erreur quadratique moyenne de reconstruction : 0.064074\n",
      "Epoch 45, erreur quadratique moyenne de reconstruction : 0.063037\n",
      "Epoch 46, erreur quadratique moyenne de reconstruction : 0.061860\n",
      "Epoch 47, erreur quadratique moyenne de reconstruction : 0.061158\n",
      "Epoch 48, erreur quadratique moyenne de reconstruction : 0.059555\n",
      "Epoch 49, erreur quadratique moyenne de reconstruction : 0.058259\n",
      "Epoch 50, erreur quadratique moyenne de reconstruction : 0.057558\n",
      "Epoch 51, erreur quadratique moyenne de reconstruction : 0.056664\n",
      "Epoch 52, erreur quadratique moyenne de reconstruction : 0.056289\n",
      "Epoch 53, erreur quadratique moyenne de reconstruction : 0.055627\n",
      "Epoch 54, erreur quadratique moyenne de reconstruction : 0.054254\n",
      "Epoch 55, erreur quadratique moyenne de reconstruction : 0.053585\n",
      "Epoch 56, erreur quadratique moyenne de reconstruction : 0.052938\n",
      "Epoch 57, erreur quadratique moyenne de reconstruction : 0.051939\n",
      "Epoch 58, erreur quadratique moyenne de reconstruction : 0.051036\n",
      "Epoch 59, erreur quadratique moyenne de reconstruction : 0.050938\n",
      "Epoch 60, erreur quadratique moyenne de reconstruction : 0.049704\n",
      "Epoch 61, erreur quadratique moyenne de reconstruction : 0.048862\n",
      "Epoch 62, erreur quadratique moyenne de reconstruction : 0.048323\n",
      "Epoch 63, erreur quadratique moyenne de reconstruction : 0.048073\n",
      "Epoch 64, erreur quadratique moyenne de reconstruction : 0.047156\n",
      "Epoch 65, erreur quadratique moyenne de reconstruction : 0.046233\n",
      "Epoch 66, erreur quadratique moyenne de reconstruction : 0.045469\n",
      "Epoch 67, erreur quadratique moyenne de reconstruction : 0.045120\n",
      "Epoch 68, erreur quadratique moyenne de reconstruction : 0.044656\n",
      "Epoch 69, erreur quadratique moyenne de reconstruction : 0.044024\n",
      "Epoch 70, erreur quadratique moyenne de reconstruction : 0.043250\n",
      "Epoch 71, erreur quadratique moyenne de reconstruction : 0.043151\n",
      "Epoch 72, erreur quadratique moyenne de reconstruction : 0.042979\n",
      "Epoch 73, erreur quadratique moyenne de reconstruction : 0.041970\n",
      "Epoch 74, erreur quadratique moyenne de reconstruction : 0.041600\n",
      "Epoch 75, erreur quadratique moyenne de reconstruction : 0.040527\n",
      "Epoch 76, erreur quadratique moyenne de reconstruction : 0.040063\n",
      "Epoch 77, erreur quadratique moyenne de reconstruction : 0.039600\n",
      "Epoch 78, erreur quadratique moyenne de reconstruction : 0.039571\n",
      "Epoch 79, erreur quadratique moyenne de reconstruction : 0.038815\n",
      "Epoch 80, erreur quadratique moyenne de reconstruction : 0.038059\n",
      "Epoch 81, erreur quadratique moyenne de reconstruction : 0.037881\n",
      "Epoch 82, erreur quadratique moyenne de reconstruction : 0.037249\n",
      "Epoch 83, erreur quadratique moyenne de reconstruction : 0.036986\n",
      "Epoch 84, erreur quadratique moyenne de reconstruction : 0.037022\n",
      "Epoch 85, erreur quadratique moyenne de reconstruction : 0.036259\n",
      "Epoch 86, erreur quadratique moyenne de reconstruction : 0.035825\n",
      "Epoch 87, erreur quadratique moyenne de reconstruction : 0.035627\n",
      "Epoch 88, erreur quadratique moyenne de reconstruction : 0.035343\n",
      "Epoch 89, erreur quadratique moyenne de reconstruction : 0.034904\n",
      "Epoch 90, erreur quadratique moyenne de reconstruction : 0.034441\n",
      "Epoch 91, erreur quadratique moyenne de reconstruction : 0.033788\n",
      "Epoch 92, erreur quadratique moyenne de reconstruction : 0.033395\n",
      "Epoch 93, erreur quadratique moyenne de reconstruction : 0.033198\n",
      "Epoch 94, erreur quadratique moyenne de reconstruction : 0.032826\n",
      "Epoch 95, erreur quadratique moyenne de reconstruction : 0.032252\n",
      "Epoch 96, erreur quadratique moyenne de reconstruction : 0.032171\n",
      "Epoch 97, erreur quadratique moyenne de reconstruction : 0.031964\n",
      "Epoch 98, erreur quadratique moyenne de reconstruction : 0.031491\n",
      "Epoch 99, erreur quadratique moyenne de reconstruction : 0.030802\n"
     ]
    }
   ],
   "source": [
    "model.train(X, 0.1, 4, 100, verbose=True)"
   ]
  },
  {
   "cell_type": "code",
   "execution_count": 6,
   "metadata": {},
   "outputs": [
    {
     "data": {
      "image/png": "[encoded data removed]",
      "text/plain": [
       "<Figure size 1000x1000 with 10 Axes>"
      ]
     },
     "metadata": {},
     "output_type": "display_data"
    }
   ],
   "source": [
    "generated = model.generer_image(20, 10)\n",
    "display_alpha_digits(generated)"
   ]
  },
  {
   "attachments": {},
   "cell_type": "markdown",
   "metadata": {},
   "source": [
    "# DBN"
   ]
  },
  {
   "cell_type": "code",
   "execution_count": 7,
   "metadata": {},
   "outputs": [],
   "source": [
    "from src.dbn import DBN\n",
    "\n",
    "model = DBN([320, 40, 40,40])"
   ]
  },
  {
   "cell_type": "code",
   "execution_count": 8,
   "metadata": {},
   "outputs": [
    {
     "name": "stderr",
     "output_type": "stream",
     "text": [
      "DBN Training | RBM: 100%|██████████| 3/3 [00:00<00:00, 10.22it/s]\n"
     ]
    }
   ],
   "source": [
    "model.train(X, 0.1, 4, 100, verbose=False)"
   ]
  },
  {
   "cell_type": "code",
   "execution_count": 9,
   "metadata": {},
   "outputs": [
    {
     "data": {
      "image/png": "[encoded data removed]",
      "text/plain": [
       "<Figure size 1000x1000 with 10 Axes>"
      ]
     },
     "metadata": {},
     "output_type": "display_data"
    }
   ],
   "source": [
    "generated = model.generer_image(30, 10)\n",
    "display_alpha_digits(generated)"
   ]
  },
  {
   "attachments": {},
   "cell_type": "markdown",
   "metadata": {},
   "source": [
    "## MNIST"
   ]
  },
  {
   "cell_type": "code",
   "execution_count": 10,
   "metadata": {},
   "outputs": [],
   "source": [
    "from src.data import lire_mnist\n",
    "\n",
    "X_train, y_train, X_test, y_test = lire_mnist(\"data/mnist_train.csv\", \"data/mnist_test.csv\")"
   ]
  },
  {
   "cell_type": "code",
   "execution_count": 11,
   "metadata": {},
   "outputs": [
    {
     "name": "stdout",
     "output_type": "stream",
     "text": [
      "Epoch 0, erreur quadratique moyenne de reconstruction : 0.100932\n",
      "Epoch 1, erreur quadratique moyenne de reconstruction : 0.092659\n",
      "Epoch 2, erreur quadratique moyenne de reconstruction : 0.090867\n",
      "Epoch 3, erreur quadratique moyenne de reconstruction : 0.086851\n",
      "Epoch 4, erreur quadratique moyenne de reconstruction : 0.084237\n",
      "Epoch 5, erreur quadratique moyenne de reconstruction : 0.080489\n",
      "Epoch 6, erreur quadratique moyenne de reconstruction : 0.076715\n",
      "Epoch 7, erreur quadratique moyenne de reconstruction : 0.073809\n",
      "Epoch 8, erreur quadratique moyenne de reconstruction : 0.071489\n",
      "Epoch 9, erreur quadratique moyenne de reconstruction : 0.069444\n",
      "Epoch 0, erreur quadratique moyenne de reconstruction : 0.090883\n",
      "Epoch 1, erreur quadratique moyenne de reconstruction : 0.090809\n",
      "Epoch 2, erreur quadratique moyenne de reconstruction : 0.090657\n",
      "Epoch 3, erreur quadratique moyenne de reconstruction : 0.090309\n",
      "Epoch 4, erreur quadratique moyenne de reconstruction : 0.089519\n",
      "Epoch 5, erreur quadratique moyenne de reconstruction : 0.087786\n",
      "Epoch 6, erreur quadratique moyenne de reconstruction : 0.084400\n",
      "Epoch 7, erreur quadratique moyenne de reconstruction : 0.078833\n",
      "Epoch 8, erreur quadratique moyenne de reconstruction : 0.071276\n",
      "Epoch 9, erreur quadratique moyenne de reconstruction : 0.063195\n"
     ]
    }
   ],
   "source": [
    "dbn_mnist = DBN([784, 100, 40])\n",
    "dbn_mnist.train(X_train, 0.1, 10000, 10)"
   ]
  },
  {
   "attachments": {},
   "cell_type": "markdown",
   "metadata": {},
   "source": [
    "# DNN"
   ]
  },
  {
   "cell_type": "code",
   "execution_count": 12,
   "metadata": {},
   "outputs": [],
   "source": [
    "from src.dnn import DNN\n",
    "from src.data import lire_mnist\n",
    "\n",
    "X_train, y_train, X_test, y_test = lire_mnist(\"data/mnist_train.csv\", \"data/mnist_test.csv\")"
   ]
  },
  {
   "cell_type": "code",
   "execution_count": 13,
   "metadata": {},
   "outputs": [
    {
     "name": "stdout",
     "output_type": "stream",
     "text": [
      "Epoch 0, erreur quadratique moyenne de reconstruction : 0.070738\n",
      "Epoch 1, erreur quadratique moyenne de reconstruction : 0.059010\n",
      "Epoch 2, erreur quadratique moyenne de reconstruction : 0.053475\n",
      "Epoch 3, erreur quadratique moyenne de reconstruction : 0.049632\n",
      "Epoch 4, erreur quadratique moyenne de reconstruction : 0.046898\n",
      "Epoch 0, erreur quadratique moyenne de reconstruction : 0.130436\n",
      "Epoch 1, erreur quadratique moyenne de reconstruction : 0.077845\n",
      "Epoch 2, erreur quadratique moyenne de reconstruction : 0.056365\n",
      "Epoch 3, erreur quadratique moyenne de reconstruction : 0.042688\n",
      "Epoch 4, erreur quadratique moyenne de reconstruction : 0.034823\n",
      "Epoch 1/15 - Cross entropy: 1.1013018169150568\n",
      "Epoch 2/15 - Cross entropy: 0.8860097031490201\n",
      "Epoch 3/15 - Cross entropy: 0.7941426008959152\n",
      "Epoch 4/15 - Cross entropy: 0.7394705687402657\n",
      "Epoch 5/15 - Cross entropy: 0.7012305825826082\n",
      "Epoch 6/15 - Cross entropy: 0.6718206329801599\n",
      "Epoch 7/15 - Cross entropy: 0.6477701102077309\n",
      "Epoch 8/15 - Cross entropy: 0.627262187652997\n",
      "Epoch 9/15 - Cross entropy: 0.6092514179900355\n",
      "Epoch 10/15 - Cross entropy: 0.5930923721850913\n",
      "Epoch 11/15 - Cross entropy: 0.5783639375536644\n"
     ]
    }
   ],
   "source": [
    "model = DNN([784, 100, 100, 10])\n",
    "model.pretrain(X_train, 0.1, 1000, 5)\n",
    "model.retropropagation(X_train, y_train, 0.1, 1000, 15)\n",
    "model.test(X_test, y_test)"
   ]
  },
  {
   "cell_type": "code",
   "execution_count": null,
   "metadata": {},
   "outputs": [
    {
     "name": "stdout",
     "output_type": "stream",
     "text": [
      "Epoch 1/100 - Cross entropy: 2.301513692555496\n",
      "Epoch 2/100 - Cross entropy: 2.301505040408254\n",
      "Epoch 3/100 - Cross entropy: 2.3014963508403032\n",
      "Epoch 4/100 - Cross entropy: 2.301487577806666\n",
      "Epoch 5/100 - Cross entropy: 2.301478674350321\n",
      "Epoch 6/100 - Cross entropy: 2.301469592015298\n",
      "Epoch 7/100 - Cross entropy: 2.3014602802224964\n",
      "Epoch 8/100 - Cross entropy: 2.301450685598007\n",
      "Epoch 9/100 - Cross entropy: 2.30144075123719\n",
      "Epoch 10/100 - Cross entropy: 2.3014304158853864\n",
      "Epoch 11/100 - Cross entropy: 2.3014196130129534\n",
      "Epoch 12/100 - Cross entropy: 2.3014082697581895\n",
      "Epoch 13/100 - Cross entropy: 2.301396305706311\n",
      "Epoch 14/100 - Cross entropy: 2.301383631465775\n",
      "Epoch 15/100 - Cross entropy: 2.3013701469943517\n",
      "Epoch 16/100 - Cross entropy: 2.301355739615968\n",
      "Epoch 17/100 - Cross entropy: 2.3013402816546207\n",
      "Epoch 18/100 - Cross entropy: 2.3013236275926228\n",
      "Epoch 19/100 - Cross entropy: 2.3013056106356307\n",
      "Epoch 20/100 - Cross entropy: 2.3012860385344522\n",
      "Epoch 21/100 - Cross entropy: 2.3012646884708223\n",
      "Epoch 22/100 - Cross entropy: 2.3012413007575985\n",
      "Epoch 23/100 - Cross entropy: 2.301215571027951\n",
      "Epoch 24/100 - Cross entropy: 2.3011871404859128\n",
      "Epoch 25/100 - Cross entropy: 2.3011555836518442\n",
      "Epoch 26/100 - Cross entropy: 2.3011203928461352\n",
      "Epoch 27/100 - Cross entropy: 2.3010809583912284\n",
      "Epoch 28/100 - Cross entropy: 2.3010365431443343\n",
      "Epoch 29/100 - Cross entropy: 2.3009862494538966\n",
      "Epoch 30/100 - Cross entropy: 2.3009289758911025\n",
      "Epoch 31/100 - Cross entropy: 2.3008633600356814\n",
      "Epoch 32/100 - Cross entropy: 2.300787702025508\n",
      "Epoch 33/100 - Cross entropy: 2.3006998612493326\n",
      "Epoch 34/100 - Cross entropy: 2.300597115052031\n",
      "Epoch 35/100 - Cross entropy: 2.3004759629498914\n",
      "Epoch 36/100 - Cross entropy: 2.300331851491741\n",
      "Epoch 37/100 - Cross entropy: 2.3001587816446434\n",
      "Epoch 38/100 - Cross entropy: 2.2999487391443485\n",
      "Epoch 39/100 - Cross entropy: 2.299690852829519\n",
      "Epoch 40/100 - Cross entropy: 2.299370126077193\n",
      "Epoch 41/100 - Cross entropy: 2.2989654825625276\n",
      "Epoch 42/100 - Cross entropy: 2.298446682346907\n",
      "Epoch 43/100 - Cross entropy: 2.2977693240878123\n",
      "Epoch 44/100 - Cross entropy: 2.2968665037116742\n",
      "Epoch 45/100 - Cross entropy: 2.2956344319431206\n",
      "Epoch 46/100 - Cross entropy: 2.2939067286274275\n",
      "Epoch 47/100 - Cross entropy: 2.291406640403908\n",
      "Epoch 48/100 - Cross entropy: 2.2876544193959902\n",
      "Epoch 49/100 - Cross entropy: 2.2817800107229638\n",
      "Epoch 50/100 - Cross entropy: 2.272130069738194\n",
      "Epoch 51/100 - Cross entropy: 2.2554318367439166\n",
      "Epoch 52/100 - Cross entropy: 2.2251199343010986\n",
      "Epoch 53/100 - Cross entropy: 2.169010693037004\n",
      "Epoch 54/100 - Cross entropy: 2.071512292552517\n",
      "Epoch 55/100 - Cross entropy: 1.9316123414276838\n",
      "Epoch 56/100 - Cross entropy: 1.7716299474746058\n",
      "Epoch 57/100 - Cross entropy: 1.6187059491939575\n",
      "Epoch 58/100 - Cross entropy: 1.4979921201659374\n",
      "Epoch 59/100 - Cross entropy: 1.4129158989704245\n",
      "Epoch 60/100 - Cross entropy: 1.3519316239762815\n",
      "Epoch 61/100 - Cross entropy: 1.3049412486570486\n",
      "Epoch 62/100 - Cross entropy: 1.266154293023392\n",
      "Epoch 63/100 - Cross entropy: 1.2325615471824856\n",
      "Epoch 64/100 - Cross entropy: 1.202633126472061\n",
      "Epoch 65/100 - Cross entropy: 1.1755779826230361\n",
      "Epoch 66/100 - Cross entropy: 1.150931805469994\n",
      "Epoch 67/100 - Cross entropy: 1.1283298012560876\n",
      "Epoch 68/100 - Cross entropy: 1.1073980104507142\n",
      "Epoch 69/100 - Cross entropy: 1.0877202908749941\n",
      "Epoch 70/100 - Cross entropy: 1.0688411677152427\n",
      "Epoch 71/100 - Cross entropy: 1.0502707539781566\n",
      "Epoch 72/100 - Cross entropy: 1.0314709801589574\n",
      "Epoch 73/100 - Cross entropy: 1.0118182873121124\n",
      "Epoch 74/100 - Cross entropy: 0.9905563876880205\n",
      "Epoch 75/100 - Cross entropy: 0.9667856296640823\n",
      "Epoch 76/100 - Cross entropy: 0.9396047262000158\n",
      "Epoch 77/100 - Cross entropy: 0.9085875482776737\n",
      "Epoch 78/100 - Cross entropy: 0.874567878043224\n",
      "Epoch 79/100 - Cross entropy: 0.8399430181916274\n",
      "Epoch 80/100 - Cross entropy: 0.8075578302790243\n",
      "Epoch 81/100 - Cross entropy: 0.7791132142342978\n",
      "Epoch 82/100 - Cross entropy: 0.7548280372435338\n",
      "Epoch 83/100 - Cross entropy: 0.7341171527824295\n",
      "Epoch 84/100 - Cross entropy: 0.7162236412212424\n",
      "Epoch 85/100 - Cross entropy: 0.700490721189483\n",
      "Epoch 86/100 - Cross entropy: 0.6864160248621466\n",
      "Epoch 87/100 - Cross entropy: 0.6736309847065791\n",
      "Epoch 88/100 - Cross entropy: 0.6618673291313979\n",
      "Epoch 89/100 - Cross entropy: 0.650928571651183\n",
      "Epoch 90/100 - Cross entropy: 0.6406690036314702\n",
      "Epoch 91/100 - Cross entropy: 0.6309788709287192\n",
      "Epoch 92/100 - Cross entropy: 0.6217740433627851\n",
      "Epoch 93/100 - Cross entropy: 0.6129888523251096\n",
      "Epoch 94/100 - Cross entropy: 0.6045711528238589\n",
      "Epoch 95/100 - Cross entropy: 0.5964789387014476\n",
      "Epoch 96/100 - Cross entropy: 0.5886780225605246\n",
      "Epoch 97/100 - Cross entropy: 0.581140420078928\n",
      "Epoch 98/100 - Cross entropy: 0.5738431770397935\n",
      "Epoch 99/100 - Cross entropy: 0.5667674601849388\n",
      "Epoch 100/100 - Cross entropy: 0.5598978036618497\n"
     ]
    },
    {
     "data": {
      "text/plain": [
       "0.844"
      ]
     },
     "execution_count": 68,
     "metadata": {},
     "output_type": "execute_result"
    }
   ],
   "source": [
    "model = DNN([784, 100, 100, 10])\n",
    "model.retropropagation(X_train, y_train, 0.1, 1000, 100)\n",
    "model.test(X_test, y_test)"
   ]
  }
 ],
 "metadata": {
  "kernelspec": {
   "display_name": "base",
   "language": "python",
   "name": "python3"
  },
  "language_info": {
   "codemirror_mode": {
    "name": "ipython",
    "version": 3
   },
   "file_extension": ".py",
   "mimetype": "text/x-python",
   "name": "python",
   "nbconvert_exporter": "python",
   "pygments_lexer": "ipython3",
   "version": "3.9.5"
  },
  "orig_nbformat": 4
 },
 "nbformat": 4,
 "nbformat_minor": 2
}
