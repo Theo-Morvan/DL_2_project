{
 "cells": [
  {
   "cell_type": "code",
   "execution_count": 11,
   "metadata": {},
   "outputs": [],
   "source": [
    "import scipy.io\n",
    "import numpy as np\n",
    "mat = scipy.io.loadmat('binaryalphadigs.mat')"
   ]
  },
  {
   "cell_type": "code",
   "execution_count": 12,
   "metadata": {},
   "outputs": [],
   "source": [
    "data = mat['dat']"
   ]
  },
  {
   "cell_type": "code",
   "execution_count": 13,
   "metadata": {},
   "outputs": [
    {
     "data": {
      "text/plain": [
       "(20, 16)"
      ]
     },
     "execution_count": 13,
     "metadata": {},
     "output_type": "execute_result"
    }
   ],
   "source": [
    "data[0,1].shape"
   ]
  },
  {
   "cell_type": "code",
   "execution_count": 14,
   "metadata": {},
   "outputs": [
    {
     "data": {
      "image/png": "[encoded data removed]",
      "text/plain": [
       "<Figure size 640x480 with 1 Axes>"
      ]
     },
     "metadata": {},
     "output_type": "display_data"
    }
   ],
   "source": [
    "from matplotlib import pyplot as plt\n",
    "plt.imshow(data[10][21], interpolation='nearest')\n",
    "plt.show()"
   ]
  },
  {
   "cell_type": "code",
   "execution_count": 24,
   "metadata": {},
   "outputs": [],
   "source": [
    "def lire_alpha_digit(caracteres:list):\n",
    "    mat = scipy.io.loadmat('binaryalphadigs.mat')\n",
    "    data = mat[\"dat\"]\n",
    "    NUM = 31\n",
    "    if type(caracteres)==list:\n",
    "        number_values = len(caracteres)\n",
    "        X = np.zeros((number_values*39, 20*16))\n",
    "        j = 0\n",
    "        for caractere in caracteres:\n",
    "            try:\n",
    "                caractere = int(caractere)\n",
    "                if caractere>9:\n",
    "                    raise(ValueError('integer should be lower or equal than 9 '))\n",
    "                position = caractere\n",
    "            except:\n",
    "                position = (ord(caractere)& NUM)+9\n",
    "            for i in range(39):\n",
    "                place = j*39 + i\n",
    "                X[place,:] = data[position, i].flatten()\n",
    "            j+=1\n",
    "        return X          \n",
    "    elif type(caracteres)==str:\n",
    "        position = (ord(caracteres)& NUM)+9\n",
    "        X = np.zeros((39, 20*16))\n",
    "        for i in range(39):\n",
    "            X[i,:] = data[position,i].flatten()\n",
    "        return X\n",
    "    elif type(caracteres)==int:\n",
    "        if caracteres>9:\n",
    "            raise(ValueError('integer should be lower or equal than 9 '))\n",
    "        position = caracteres\n",
    "        X = np.zeros((39, 20*16))\n",
    "        for i in range(39):\n",
    "            X[i,:] = data[position,i].flatten() \n",
    "        return X       \n",
    "    else:\n",
    "        raise(TypeError('input should be either a list, string or integer'))\n",
    "    "
   ]
  },
  {
   "cell_type": "code",
   "execution_count": 22,
   "metadata": {},
   "outputs": [
    {
     "data": {
      "text/plain": [
       "array([[0., 0., 0., ..., 0., 0., 0.],\n",
       "       [0., 0., 0., ..., 1., 1., 1.],\n",
       "       [0., 0., 0., ..., 0., 0., 1.],\n",
       "       ...,\n",
       "       [0., 0., 0., ..., 1., 0., 0.],\n",
       "       [0., 0., 0., ..., 0., 0., 0.],\n",
       "       [0., 0., 0., ..., 0., 0., 0.]])"
      ]
     },
     "execution_count": 22,
     "metadata": {},
     "output_type": "execute_result"
    }
   ],
   "source": [
    "lire_alpha_digit(9)"
   ]
  },
  {
   "cell_type": "code",
   "execution_count": 23,
   "metadata": {},
   "outputs": [],
   "source": [
    "from RBM_baseline import *"
   ]
  },
  {
   "cell_type": "code",
   "execution_count": 25,
   "metadata": {},
   "outputs": [],
   "source": [
    "X = lire_alpha_digit([\"a\"])"
   ]
  },
  {
   "cell_type": "code",
   "execution_count": null,
   "metadata": {},
   "outputs": [],
   "source": []
  },
  {
   "cell_type": "code",
   "execution_count": 27,
   "metadata": {},
   "outputs": [
    {
     "data": {
      "text/plain": [
       "(39, 320)"
      ]
     },
     "execution_count": 27,
     "metadata": {},
     "output_type": "execute_result"
    }
   ],
   "source": [
    "X.shape"
   ]
  },
  {
   "cell_type": "code",
   "execution_count": 28,
   "metadata": {},
   "outputs": [],
   "source": [
    "rbm_test = RBM(p=320, q=100)"
   ]
  },
  {
   "cell_type": "code",
   "execution_count": 30,
   "metadata": {},
   "outputs": [
    {
     "ename": "RuntimeError",
     "evalue": "expected scalar type Double but found Float",
     "output_type": "error",
     "traceback": [
      "\u001b[1;31m---------------------------------------------------------------------------\u001b[0m",
      "\u001b[1;31mRuntimeError\u001b[0m                              Traceback (most recent call last)",
      "\u001b[1;32mc:\\Users\\32mor\\OneDrive\\Documents\\IPP M2\\DL2\\Projet\\data_exploration.ipynb Cell 11\u001b[0m in \u001b[0;36m<cell line: 1>\u001b[1;34m()\u001b[0m\n\u001b[1;32m----> <a href='vscode-notebook-cell:/c%3A/Users/32mor/OneDrive/Documents/IPP%20M2/DL2/Projet/data_exploration.ipynb#X20sZmlsZQ%3D%3D?line=0'>1</a>\u001b[0m rbm_test\u001b[39m.\u001b[39;49mtrain_RBM(torch\u001b[39m.\u001b[39;49mtensor(X), \u001b[39m0.01\u001b[39;49m, \u001b[39m32\u001b[39;49m, \u001b[39m20\u001b[39;49m)\n",
      "File \u001b[1;32mc:\\Users\\32mor\\OneDrive\\Documents\\IPP M2\\DL2\\Projet\\RBM_baseline.py:46\u001b[0m, in \u001b[0;36mRBM.train_RBM\u001b[1;34m(self, X, lr, batch_size, nb_epochs)\u001b[0m\n\u001b[0;32m     43\u001b[0m \u001b[39m# print(t_b)\u001b[39;00m\n\u001b[0;32m     44\u001b[0m \u001b[39m# ipdb.set_trace()\u001b[39;00m\n\u001b[0;32m     45\u001b[0m v_0 \u001b[39m=\u001b[39m X_batch\n\u001b[1;32m---> 46\u001b[0m p_h_v_0 \u001b[39m=\u001b[39m \u001b[39mself\u001b[39;49m\u001b[39m.\u001b[39;49mentree_sortie_RBM(v_0)\n\u001b[0;32m     47\u001b[0m h_0 \u001b[39m=\u001b[39m ((torch\u001b[39m.\u001b[39mrand(size\u001b[39m=\u001b[39m(t_b,\u001b[39mself\u001b[39m\u001b[39m.\u001b[39mq))\u001b[39m<\u001b[39mp_h_v_0)\u001b[39m*\u001b[39m\u001b[39m1\u001b[39m)\u001b[39m.\u001b[39mtype(torch\u001b[39m.\u001b[39mfloat)\n\u001b[0;32m     48\u001b[0m \u001b[39mtry\u001b[39;00m:\n",
      "File \u001b[1;32mc:\\Users\\32mor\\OneDrive\\Documents\\IPP M2\\DL2\\Projet\\RBM_baseline.py:26\u001b[0m, in \u001b[0;36mRBM.entree_sortie_RBM\u001b[1;34m(self, V)\u001b[0m\n\u001b[0;32m     25\u001b[0m \u001b[39mdef\u001b[39;00m \u001b[39mentree_sortie_RBM\u001b[39m(\u001b[39mself\u001b[39m, V):\n\u001b[1;32m---> 26\u001b[0m     \u001b[39mreturn\u001b[39;00m torch\u001b[39m.\u001b[39msigmoid(\u001b[39mself\u001b[39m\u001b[39m.\u001b[39mb \u001b[39m+\u001b[39m V \u001b[39m@\u001b[39;49m \u001b[39mself\u001b[39;49m\u001b[39m.\u001b[39;49mw)\n",
      "\u001b[1;31mRuntimeError\u001b[0m: expected scalar type Double but found Float"
     ]
    }
   ],
   "source": [
    "rbm_test.train_RBM(torch.tensor(X), 0.01, 32, 20)"
   ]
  },
  {
   "cell_type": "code",
   "execution_count": null,
   "metadata": {},
   "outputs": [],
   "source": []
  }
 ],
 "metadata": {
  "kernelspec": {
   "display_name": "base",
   "language": "python",
   "name": "python3"
  },
  "language_info": {
   "codemirror_mode": {
    "name": "ipython",
    "version": 3
   },
   "file_extension": ".py",
   "mimetype": "text/x-python",
   "name": "python",
   "nbconvert_exporter": "python",
   "pygments_lexer": "ipython3",
   "version": "3.8.13"
  },
  "orig_nbformat": 4,
  "vscode": {
   "interpreter": {
    "hash": "7ae746a38a9599f77271757951e3979675c1ad086f453ae5211f23a6ccb63a37"
   }
  }
 },
 "nbformat": 4,
 "nbformat_minor": 2
}
